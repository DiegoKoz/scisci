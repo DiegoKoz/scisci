{
 "cells": [
  {
   "cell_type": "code",
   "execution_count": 1,
   "metadata": {},
   "outputs": [],
   "source": [
    "import pandas as pd\n",
    "import pickle\n",
    "from tqdm.notebook import tqdm\n",
    "\n",
    "import os\n",
    "import shutil\n",
    "\n",
    "from libs.NetworkBuilder import NetworkBuilder\n",
    "from libs.ScisciDataset import ScisciDataset"
   ]
  },
  {
   "cell_type": "code",
   "execution_count": 2,
   "metadata": {},
   "outputs": [],
   "source": [
    "df = pd.read_pickle('../../data/dataset.p')"
   ]
  },
  {
   "cell_type": "code",
   "execution_count": 4,
   "metadata": {},
   "outputs": [],
   "source": [
    "ref_df = pd.read_json('../../data/references.json')"
   ]
  },
  {
   "cell_type": "code",
   "execution_count": 5,
   "metadata": {},
   "outputs": [],
   "source": [
    "class AblatedDataset:\n",
    "    \n",
    "    def __init__(self, df, ref_df):\n",
    "        \n",
    "        nb = NetworkBuilder(df, references=ref_df)\n",
    "        self.nb = nb\n",
    "        X,LE = nb.prepare_metadata(remove=None)\n",
    "        self.edge_index,self.eid_row_indices = nb.build_edges()\n",
    "        self.variations = [\"affiliation\", \"first_author\", \"coverDate\", \"subject_area\", \"topic_dist\", \"bert\", \"citations_at\", None]\n",
    "        \n",
    "\n",
    "    def save_dataset(self, dataset, file_name):\n",
    "        with open(file_name, 'wb') as handle:\n",
    "            pickle.dump(dataset, handle, protocol=pickle.HIGHEST_PROTOCOL)\n",
    "            \n",
    "    def generate_dataset(self):\n",
    "        \n",
    "        for feature in tqdm(self.variations, desc = \"generating dataset\"):\n",
    "            X,LE = self.nb.prepare_metadata(remove=feature)\n",
    "            if os.path.exists('data/{}'.format(feature)):\n",
    "                shutil.rmtree('data/{}'.format(feature))\n",
    "            os.mkdir('data/{}'.format(feature))\n",
    "            \n",
    "            self.save_dataset(self.edge_index, 'data/{}/edge_pairs.p'.format(feature))\n",
    "            self.save_dataset(X, 'data/{}/x.p'.format(feature))\n",
    "            \n",
    "            print(\"dataset without {} saved\".format(feature))\n",
    "            print(\"shape: {}\".format(X.shape))\n",
    "        \n",
    "\n",
    "\n"
   ]
  },
  {
   "cell_type": "code",
   "execution_count": 6,
   "metadata": {},
   "outputs": [],
   "source": [
    "ablated_data = AblatedDataset(df, ref_df)"
   ]
  },
  {
   "cell_type": "code",
   "execution_count": 7,
   "metadata": {},
   "outputs": [
    {
     "data": {
      "application/vnd.jupyter.widget-view+json": {
       "model_id": "9c4f277c16184a05a9ab465e0e8eb8ee",
       "version_major": 2,
       "version_minor": 0
      },
      "text/plain": [
       "HBox(children=(FloatProgress(value=0.0, description='generating dataset', max=8.0, style=ProgressStyle(descrip…"
      ]
     },
     "metadata": {},
     "output_type": "display_data"
    },
    {
     "name": "stdout",
     "output_type": "stream",
     "text": [
      "dataset without affiliation saved\n",
      "shape: torch.Size([22151, 830])\n",
      "dataset without first_author saved\n",
      "shape: torch.Size([22151, 830])\n",
      "dataset without coverDate saved\n",
      "shape: torch.Size([22151, 830])\n",
      "dataset without subject_area saved\n",
      "shape: torch.Size([22151, 802])\n",
      "dataset without topic_dist saved\n",
      "shape: torch.Size([22151, 811])\n",
      "dataset without bert saved\n",
      "shape: torch.Size([22151, 63])\n",
      "dataset without citations_at saved\n",
      "shape: torch.Size([22151, 820])\n",
      "dataset without None saved\n",
      "shape: torch.Size([22151, 831])\n",
      "\n"
     ]
    }
   ],
   "source": [
    "ablated_data.generate_dataset()"
   ]
  }
 ],
 "metadata": {
  "kernelspec": {
   "display_name": "Python 3",
   "language": "python",
   "name": "python3"
  },
  "language_info": {
   "codemirror_mode": {
    "name": "ipython",
    "version": 3
   },
   "file_extension": ".py",
   "mimetype": "text/x-python",
   "name": "python",
   "nbconvert_exporter": "python",
   "pygments_lexer": "ipython3",
   "version": "3.7.3"
  }
 },
 "nbformat": 4,
 "nbformat_minor": 4
}
