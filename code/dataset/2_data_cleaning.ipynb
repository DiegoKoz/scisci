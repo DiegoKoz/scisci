{
 "cells": [
  {
   "cell_type": "code",
   "execution_count": 2,
   "metadata": {},
   "outputs": [],
   "source": [
    "import pandas as pd\n",
    "from itertools import chain\n",
    "from functools import reduce\n",
    "import numpy as np\n",
    "import logging\n",
    "import json\n",
    "import glob\n",
    "from tqdm import tqdm\n",
    "import re"
   ]
  },
  {
   "cell_type": "code",
   "execution_count": 6,
   "metadata": {},
   "outputs": [],
   "source": [
    "df = pd.read_pickle('../../data/intermediate_files/dataset.p')"
   ]
  },
  {
   "cell_type": "code",
   "execution_count": 7,
   "metadata": {},
   "outputs": [
    {
     "data": {
      "text/plain": [
       "Index(['title', 'abstract', 'affiliation', 'aggregationType', 'authkeywords',\n",
       "       'authorgroup', 'authors', 'chemicals', 'citedby_count', 'coverDate',\n",
       "       'description', 'doi', 'funding', 'funding_text', 'citedby_link',\n",
       "       'contributor_group', 'language', 'publicationName', 'references',\n",
       "       'subject_areas', 'issueIdentifier', 'volume', 'eid'],\n",
       "      dtype='object')"
      ]
     },
     "execution_count": 7,
     "metadata": {},
     "output_type": "execute_result"
    }
   ],
   "source": [
    "df.columns"
   ]
  },
  {
   "cell_type": "code",
   "execution_count": 8,
   "metadata": {},
   "outputs": [],
   "source": [
    "def clean_publicationName(text):\n",
    "    text = text.lower()\n",
    "    text = re.sub('(?<=studies in history and philosophy of science).*','',text)\n",
    "    text = re.sub('(?<=isis).*','',text)\n",
    "    text = re.sub('(?<=synthese).*','',text)\n",
    "    text = re.sub('(?<=scientometrics).*','',text)\n",
    "    text = re.sub('.*(?=british journal for the history of science)','',text)\n",
    "    text = re.sub('science(,)? technology (&|and) society','science, technology and society',text)\n",
    "    text = re.sub('science(,)? technology(,)? (&|and) human values','science, technology and human values',text)\n",
    "    text = re.sub('science & education','science and education',text)\n",
    "    return text\n",
    "    "
   ]
  },
  {
   "cell_type": "code",
   "execution_count": 9,
   "metadata": {},
   "outputs": [],
   "source": [
    "df.publicationName = df.publicationName.apply(lambda x: clean_publicationName(x))"
   ]
  },
  {
   "cell_type": "code",
   "execution_count": 10,
   "metadata": {},
   "outputs": [
    {
     "data": {
      "text/plain": [
       "synthese                                        5674\n",
       "scientometrics                                  5136\n",
       "research policy                                 3221\n",
       "science and public policy                       1707\n",
       "studies in history and philosophy of science    1434\n",
       "science and education                           1078\n",
       "social studies of science                       1069\n",
       "public understanding of science                  977\n",
       "isis                                             932\n",
       "journal of informetrics                          876\n",
       "science, technology and human values             757\n",
       "british journal for the history of science       742\n",
       "research evaluation                              666\n",
       "science, technology and society                  453\n",
       "minerva                                          391\n",
       "science and technology studies                   111\n",
       "Name: publicationName, dtype: int64"
      ]
     },
     "execution_count": 10,
     "metadata": {},
     "output_type": "execute_result"
    }
   ],
   "source": [
    "df.publicationName.value_counts()"
   ]
  },
  {
   "cell_type": "code",
   "execution_count": 11,
   "metadata": {},
   "outputs": [],
   "source": [
    "def normalize_publicationName(argument): \n",
    "    switcher = { \n",
    "        'Science, Technology & Human Values': \"Science Technology and Human Values\", \n",
    "        'Science, Technology, & Human Values': \"Science Technology and Human Values\", \n",
    "        'Science, technology & human values': \"Science Technology and Human Values\",\n",
    "        'Scientometrics: An International Journal for all Quantitative Aspects of the Science of Science, Communication in Science and Science Policy': \"Scientometrics\",\n",
    "        'Computers and Education' : 'Research Policy',\n",
    "        'Public understanding of science (Bristol, England)':'Public Understanding of Science',\n",
    "        \n",
    "        'Social studies of science': 'Social Studies of Science'\n",
    "    } \n",
    "    return switcher.get(argument,argument) "
   ]
  },
  {
   "cell_type": "code",
   "execution_count": 12,
   "metadata": {},
   "outputs": [],
   "source": [
    "df.publicationName = df.publicationName.apply(normalize_publicationName)"
   ]
  },
  {
   "cell_type": "markdown",
   "metadata": {},
   "source": [
    "filter articles incorrectly downloaded"
   ]
  },
  {
   "cell_type": "code",
   "execution_count": 14,
   "metadata": {},
   "outputs": [],
   "source": [
    "df = df[~df['publicationName'].isin(['lecture notes in computer science (including subseries lecture notes in artificial intelligence and lecture notes in bioinformatics)',\n",
    "                                     'Automation in Construction',\n",
    "                              'science advances']) ]\n"
   ]
  },
  {
   "cell_type": "markdown",
   "metadata": {},
   "source": [
    "#### Distribution of citatiosn"
   ]
  },
  {
   "cell_type": "code",
   "execution_count": 21,
   "metadata": {},
   "outputs": [],
   "source": [
    "def most_cited(series):\n",
    "\n",
    "    return set(df.title[df.citedby_count == max(series)].values)"
   ]
  },
  {
   "cell_type": "code",
   "execution_count": 22,
   "metadata": {},
   "outputs": [
    {
     "data": {
      "text/html": [
       "<div>\n",
       "<style scoped>\n",
       "    .dataframe tbody tr th:only-of-type {\n",
       "        vertical-align: middle;\n",
       "    }\n",
       "\n",
       "    .dataframe tbody tr th {\n",
       "        vertical-align: top;\n",
       "    }\n",
       "\n",
       "    .dataframe thead th {\n",
       "        text-align: right;\n",
       "    }\n",
       "</style>\n",
       "<table border=\"1\" class=\"dataframe\">\n",
       "  <thead>\n",
       "    <tr style=\"text-align: right;\">\n",
       "      <th></th>\n",
       "      <th>count</th>\n",
       "      <th>mean</th>\n",
       "      <th>sum</th>\n",
       "      <th>max</th>\n",
       "      <th>most_cited</th>\n",
       "    </tr>\n",
       "    <tr>\n",
       "      <th>publicationName</th>\n",
       "      <th></th>\n",
       "      <th></th>\n",
       "      <th></th>\n",
       "      <th></th>\n",
       "      <th></th>\n",
       "    </tr>\n",
       "  </thead>\n",
       "  <tbody>\n",
       "    <tr>\n",
       "      <th>science and technology studies</th>\n",
       "      <td>111</td>\n",
       "      <td>5.288288</td>\n",
       "      <td>587</td>\n",
       "      <td>39</td>\n",
       "      <td>{Science, technology and innovation policies i...</td>\n",
       "    </tr>\n",
       "    <tr>\n",
       "      <th>science, technology and society</th>\n",
       "      <td>453</td>\n",
       "      <td>5.735099</td>\n",
       "      <td>2598</td>\n",
       "      <td>238</td>\n",
       "      <td>{Public research and industrial innovations in...</td>\n",
       "    </tr>\n",
       "    <tr>\n",
       "      <th>synthese</th>\n",
       "      <td>5674</td>\n",
       "      <td>9.602749</td>\n",
       "      <td>54486</td>\n",
       "      <td>910</td>\n",
       "      <td>{Fuzzy logic and approximate reasoning - In me...</td>\n",
       "    </tr>\n",
       "    <tr>\n",
       "      <th>studies in history and philosophy of science</th>\n",
       "      <td>1434</td>\n",
       "      <td>10.693863</td>\n",
       "      <td>15335</td>\n",
       "      <td>288</td>\n",
       "      <td>{What is structural realism?, Diversity and ne...</td>\n",
       "    </tr>\n",
       "    <tr>\n",
       "      <th>isis</th>\n",
       "      <td>932</td>\n",
       "      <td>10.702790</td>\n",
       "      <td>9975</td>\n",
       "      <td>415</td>\n",
       "      <td>{Knowledge in transit.}</td>\n",
       "    </tr>\n",
       "    <tr>\n",
       "      <th>british journal for the history of science</th>\n",
       "      <td>742</td>\n",
       "      <td>11.045822</td>\n",
       "      <td>8196</td>\n",
       "      <td>132</td>\n",
       "      <td>{Probability, explanation, and information, Ma...</td>\n",
       "    </tr>\n",
       "    <tr>\n",
       "      <th>science and education</th>\n",
       "      <td>1078</td>\n",
       "      <td>11.358071</td>\n",
       "      <td>12244</td>\n",
       "      <td>298</td>\n",
       "      <td>{The knowledge creation metaphor - An emergent...</td>\n",
       "    </tr>\n",
       "    <tr>\n",
       "      <th>research evaluation</th>\n",
       "      <td>666</td>\n",
       "      <td>13.148649</td>\n",
       "      <td>8757</td>\n",
       "      <td>223</td>\n",
       "      <td>{What do we measure by co-authorships?, Stages...</td>\n",
       "    </tr>\n",
       "    <tr>\n",
       "      <th>science and public policy</th>\n",
       "      <td>1707</td>\n",
       "      <td>13.265378</td>\n",
       "      <td>22644</td>\n",
       "      <td>462</td>\n",
       "      <td>{Responsible research and innovation: From sci...</td>\n",
       "    </tr>\n",
       "    <tr>\n",
       "      <th>minerva</th>\n",
       "      <td>391</td>\n",
       "      <td>16.511509</td>\n",
       "      <td>6456</td>\n",
       "      <td>624</td>\n",
       "      <td>{Technologies of humility: Citizen participati...</td>\n",
       "    </tr>\n",
       "    <tr>\n",
       "      <th>scientometrics</th>\n",
       "      <td>5136</td>\n",
       "      <td>20.042056</td>\n",
       "      <td>102936</td>\n",
       "      <td>1334</td>\n",
       "      <td>{Software survey: VOSviewer, a computer progra...</td>\n",
       "    </tr>\n",
       "    <tr>\n",
       "      <th>journal of informetrics</th>\n",
       "      <td>876</td>\n",
       "      <td>22.628995</td>\n",
       "      <td>19823</td>\n",
       "      <td>352</td>\n",
       "      <td>{A unified approach to mapping and clustering ...</td>\n",
       "    </tr>\n",
       "    <tr>\n",
       "      <th>public understanding of science</th>\n",
       "      <td>977</td>\n",
       "      <td>25.910952</td>\n",
       "      <td>25315</td>\n",
       "      <td>518</td>\n",
       "      <td>{Internal R&amp;D expenditures and external techno...</td>\n",
       "    </tr>\n",
       "    <tr>\n",
       "      <th>science, technology and human values</th>\n",
       "      <td>757</td>\n",
       "      <td>32.866579</td>\n",
       "      <td>24880</td>\n",
       "      <td>828</td>\n",
       "      <td>{A typology of public engagement mechanisms}</td>\n",
       "    </tr>\n",
       "    <tr>\n",
       "      <th>social studies of science</th>\n",
       "      <td>1069</td>\n",
       "      <td>40.951356</td>\n",
       "      <td>43777</td>\n",
       "      <td>4709</td>\n",
       "      <td>{Institutional Ecology, ‘Translations’ and Bou...</td>\n",
       "    </tr>\n",
       "    <tr>\n",
       "      <th>research policy</th>\n",
       "      <td>3221</td>\n",
       "      <td>83.747283</td>\n",
       "      <td>269750</td>\n",
       "      <td>4820</td>\n",
       "      <td>{Profiting from technological innovation: Impl...</td>\n",
       "    </tr>\n",
       "  </tbody>\n",
       "</table>\n",
       "</div>"
      ],
      "text/plain": [
       "                                              count       mean     sum   max  \\\n",
       "publicationName                                                                \n",
       "science and technology studies                  111   5.288288     587    39   \n",
       "science, technology and society                 453   5.735099    2598   238   \n",
       "synthese                                       5674   9.602749   54486   910   \n",
       "studies in history and philosophy of science   1434  10.693863   15335   288   \n",
       "isis                                            932  10.702790    9975   415   \n",
       "british journal for the history of science      742  11.045822    8196   132   \n",
       "science and education                          1078  11.358071   12244   298   \n",
       "research evaluation                             666  13.148649    8757   223   \n",
       "science and public policy                      1707  13.265378   22644   462   \n",
       "minerva                                         391  16.511509    6456   624   \n",
       "scientometrics                                 5136  20.042056  102936  1334   \n",
       "journal of informetrics                         876  22.628995   19823   352   \n",
       "public understanding of science                 977  25.910952   25315   518   \n",
       "science, technology and human values            757  32.866579   24880   828   \n",
       "social studies of science                      1069  40.951356   43777  4709   \n",
       "research policy                                3221  83.747283  269750  4820   \n",
       "\n",
       "                                                                                     most_cited  \n",
       "publicationName                                                                                  \n",
       "science and technology studies                {Science, technology and innovation policies i...  \n",
       "science, technology and society               {Public research and industrial innovations in...  \n",
       "synthese                                      {Fuzzy logic and approximate reasoning - In me...  \n",
       "studies in history and philosophy of science  {What is structural realism?, Diversity and ne...  \n",
       "isis                                                                    {Knowledge in transit.}  \n",
       "british journal for the history of science    {Probability, explanation, and information, Ma...  \n",
       "science and education                         {The knowledge creation metaphor - An emergent...  \n",
       "research evaluation                           {What do we measure by co-authorships?, Stages...  \n",
       "science and public policy                     {Responsible research and innovation: From sci...  \n",
       "minerva                                       {Technologies of humility: Citizen participati...  \n",
       "scientometrics                                {Software survey: VOSviewer, a computer progra...  \n",
       "journal of informetrics                       {A unified approach to mapping and clustering ...  \n",
       "public understanding of science               {Internal R&D expenditures and external techno...  \n",
       "science, technology and human values               {A typology of public engagement mechanisms}  \n",
       "social studies of science                     {Institutional Ecology, ‘Translations’ and Bou...  \n",
       "research policy                               {Profiting from technological innovation: Impl...  "
      ]
     },
     "execution_count": 22,
     "metadata": {},
     "output_type": "execute_result"
    }
   ],
   "source": [
    "df.groupby(['publicationName']).citedby_count.agg(['count', 'mean',np.sum, 'max', most_cited]).sort_values(by ='mean')"
   ]
  },
  {
   "cell_type": "markdown",
   "metadata": {},
   "source": [
    "### affiliation"
   ]
  },
  {
   "cell_type": "code",
   "execution_count": 15,
   "metadata": {},
   "outputs": [
    {
     "data": {
      "text/html": [
       "<div>\n",
       "<style scoped>\n",
       "    .dataframe tbody tr th:only-of-type {\n",
       "        vertical-align: middle;\n",
       "    }\n",
       "\n",
       "    .dataframe tbody tr th {\n",
       "        vertical-align: top;\n",
       "    }\n",
       "\n",
       "    .dataframe thead th {\n",
       "        text-align: right;\n",
       "    }\n",
       "</style>\n",
       "<table border=\"1\" class=\"dataframe\">\n",
       "  <thead>\n",
       "    <tr style=\"text-align: right;\">\n",
       "      <th></th>\n",
       "      <th>id</th>\n",
       "      <th>name</th>\n",
       "      <th>city</th>\n",
       "      <th>country</th>\n",
       "    </tr>\n",
       "  </thead>\n",
       "  <tbody>\n",
       "    <tr>\n",
       "      <th>19810</th>\n",
       "      <td>60028088</td>\n",
       "      <td>Kagoshima University</td>\n",
       "      <td>Kagoshima</td>\n",
       "      <td>Japan</td>\n",
       "    </tr>\n",
       "  </tbody>\n",
       "</table>\n",
       "</div>"
      ],
      "text/plain": [
       "             id                  name       city country\n",
       "19810  60028088  Kagoshima University  Kagoshima   Japan"
      ]
     },
     "execution_count": 15,
     "metadata": {},
     "output_type": "execute_result"
    }
   ],
   "source": [
    "affiliation = list(filter(None, df['affiliation'])) \n",
    "affiliation = [item for sublist in affiliation for item in sublist]\n",
    "\n",
    "affiliation_df = pd.DataFrame(affiliation, columns=['id', 'name','city', 'country'])\n",
    "affiliation_df.drop_duplicates(['id', 'name','city', 'country'],inplace = True)\n",
    "affiliation_df.to_json('../../data/affiliations.json')\n",
    "affiliation_df.sample()"
   ]
  },
  {
   "cell_type": "markdown",
   "metadata": {},
   "source": [
    "#### authors"
   ]
  },
  {
   "cell_type": "code",
   "execution_count": 16,
   "metadata": {},
   "outputs": [
    {
     "data": {
      "text/html": [
       "<div>\n",
       "<style scoped>\n",
       "    .dataframe tbody tr th:only-of-type {\n",
       "        vertical-align: middle;\n",
       "    }\n",
       "\n",
       "    .dataframe tbody tr th {\n",
       "        vertical-align: top;\n",
       "    }\n",
       "\n",
       "    .dataframe thead th {\n",
       "        text-align: right;\n",
       "    }\n",
       "</style>\n",
       "<table border=\"1\" class=\"dataframe\">\n",
       "  <thead>\n",
       "    <tr style=\"text-align: right;\">\n",
       "      <th></th>\n",
       "      <th>auid</th>\n",
       "      <th>indexed_name</th>\n",
       "      <th>surname</th>\n",
       "      <th>given_name</th>\n",
       "      <th>affiliation_id</th>\n",
       "    </tr>\n",
       "  </thead>\n",
       "  <tbody>\n",
       "    <tr>\n",
       "      <th>20798</th>\n",
       "      <td>56668320800</td>\n",
       "      <td>Bates J.</td>\n",
       "      <td>Bates</td>\n",
       "      <td>Jo</td>\n",
       "      <td>[60001881]</td>\n",
       "    </tr>\n",
       "  </tbody>\n",
       "</table>\n",
       "</div>"
      ],
      "text/plain": [
       "              auid indexed_name surname given_name affiliation_id\n",
       "20798  56668320800     Bates J.   Bates         Jo     [60001881]"
      ]
     },
     "execution_count": 16,
     "metadata": {},
     "output_type": "execute_result"
    }
   ],
   "source": [
    "authors = list(filter(None, df['authors'])) \n",
    "authors = [item for sublist in authors for item in sublist]\n",
    "authors\n",
    "authors_df = pd.DataFrame(authors, columns=['auid', 'indexed_name','surname', 'given_name','affiliation_id'])\n",
    "authors_df.drop_duplicates(['auid', 'indexed_name','surname', 'given_name'],inplace = True)\n",
    "authors_df.to_json('../../data/authors.json')\n",
    "authors_df.sample()\n"
   ]
  },
  {
   "cell_type": "markdown",
   "metadata": {},
   "source": [
    "#### references"
   ]
  },
  {
   "cell_type": "code",
   "execution_count": 17,
   "metadata": {},
   "outputs": [],
   "source": [
    "def add_eid(ref_list, eid):\n",
    "    if ref_list is not None:\n",
    "        #ref_list = ref_list.tolist()[0]\n",
    "        ref_list_extended = list(map(lambda x: x + [eid],ref_list))\n",
    "    else:\n",
    "        ref_list_extended = None\n",
    "    return ref_list_extended"
   ]
  },
  {
   "cell_type": "code",
   "execution_count": 30,
   "metadata": {},
   "outputs": [],
   "source": [
    "df[\"references\"] = df.apply(lambda x: add_eid(x.references,x.eid), axis=1)"
   ]
  },
  {
   "cell_type": "code",
   "execution_count": 31,
   "metadata": {},
   "outputs": [],
   "source": [
    "columns = ['position', 'eid_of_ref', 'doi', 'title', 'authors', 'authors_auid', 'authors_affiliationid', 'sourcetitle', 'publicationyear', 'volume', 'issue', 'first', 'last', 'citedbycount', 'type', 'text', 'fulltext','eid']\n",
    "\n",
    "references = [x for x in df.references.values if x]\n",
    "references = list(chain.from_iterable(references))"
   ]
  },
  {
   "cell_type": "code",
   "execution_count": 32,
   "metadata": {},
   "outputs": [],
   "source": [
    "references_df = pd.DataFrame(references, columns=columns)"
   ]
  },
  {
   "cell_type": "code",
   "execution_count": 33,
   "metadata": {},
   "outputs": [
    {
     "data": {
      "text/html": [
       "<div>\n",
       "<style scoped>\n",
       "    .dataframe tbody tr th:only-of-type {\n",
       "        vertical-align: middle;\n",
       "    }\n",
       "\n",
       "    .dataframe tbody tr th {\n",
       "        vertical-align: top;\n",
       "    }\n",
       "\n",
       "    .dataframe thead th {\n",
       "        text-align: right;\n",
       "    }\n",
       "</style>\n",
       "<table border=\"1\" class=\"dataframe\">\n",
       "  <thead>\n",
       "    <tr style=\"text-align: right;\">\n",
       "      <th></th>\n",
       "      <th>position</th>\n",
       "      <th>eid_of_ref</th>\n",
       "      <th>doi</th>\n",
       "      <th>title</th>\n",
       "      <th>authors</th>\n",
       "      <th>authors_auid</th>\n",
       "      <th>authors_affiliationid</th>\n",
       "      <th>sourcetitle</th>\n",
       "      <th>publicationyear</th>\n",
       "      <th>volume</th>\n",
       "      <th>issue</th>\n",
       "      <th>first</th>\n",
       "      <th>last</th>\n",
       "      <th>citedbycount</th>\n",
       "      <th>type</th>\n",
       "      <th>text</th>\n",
       "      <th>fulltext</th>\n",
       "      <th>eid</th>\n",
       "    </tr>\n",
       "  </thead>\n",
       "  <tbody>\n",
       "    <tr>\n",
       "      <th>1020043</th>\n",
       "      <td>29</td>\n",
       "      <td>84930701779</td>\n",
       "      <td>None</td>\n",
       "      <td>The triviality of presentism</td>\n",
       "      <td>Meyer, U.</td>\n",
       "      <td>None</td>\n",
       "      <td>None</td>\n",
       "      <td>New Papers on the Present</td>\n",
       "      <td>2012</td>\n",
       "      <td>None</td>\n",
       "      <td>None</td>\n",
       "      <td>None</td>\n",
       "      <td>None</td>\n",
       "      <td>None</td>\n",
       "      <td>None</td>\n",
       "      <td>R. Ciuni, K. Miller, and G. Torrengo (Eds.), P...</td>\n",
       "      <td>Meyer, U. (2012). The triviality of presentism...</td>\n",
       "      <td>2-s2.0-84905270654</td>\n",
       "    </tr>\n",
       "  </tbody>\n",
       "</table>\n",
       "</div>"
      ],
      "text/plain": [
       "        position   eid_of_ref   doi                         title    authors  \\\n",
       "1020043       29  84930701779  None  The triviality of presentism  Meyer, U.   \n",
       "\n",
       "        authors_auid authors_affiliationid                sourcetitle  \\\n",
       "1020043         None                  None  New Papers on the Present   \n",
       "\n",
       "        publicationyear volume issue first  last citedbycount  type  \\\n",
       "1020043            2012   None  None  None  None         None  None   \n",
       "\n",
       "                                                      text  \\\n",
       "1020043  R. Ciuni, K. Miller, and G. Torrengo (Eds.), P...   \n",
       "\n",
       "                                                  fulltext                 eid  \n",
       "1020043  Meyer, U. (2012). The triviality of presentism...  2-s2.0-84905270654  "
      ]
     },
     "execution_count": 33,
     "metadata": {},
     "output_type": "execute_result"
    }
   ],
   "source": [
    "references_df.sample()"
   ]
  },
  {
   "cell_type": "code",
   "execution_count": 34,
   "metadata": {},
   "outputs": [],
   "source": [
    "references_df.to_json('../../data/references.json')"
   ]
  },
  {
   "cell_type": "code",
   "execution_count": 35,
   "metadata": {},
   "outputs": [],
   "source": [
    "df.to_pickle('../../data/intermediate_files/dataset.p')"
   ]
  }
 ],
 "metadata": {
  "kernelspec": {
   "display_name": "Python 3",
   "language": "python",
   "name": "python3"
  },
  "language_info": {
   "codemirror_mode": {
    "name": "ipython",
    "version": 3
   },
   "file_extension": ".py",
   "mimetype": "text/x-python",
   "name": "python",
   "nbconvert_exporter": "python",
   "pygments_lexer": "ipython3",
   "version": "3.7.3"
  }
 },
 "nbformat": 4,
 "nbformat_minor": 4
}
