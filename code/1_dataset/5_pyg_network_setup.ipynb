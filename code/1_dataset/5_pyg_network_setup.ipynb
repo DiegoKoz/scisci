{
 "cells": [
  {
   "cell_type": "code",
   "execution_count": 1,
   "metadata": {},
   "outputs": [],
   "source": [
    "import pandas as pd\n",
    "import pickle\n",
    "\n",
    "from libs.NetworkBuilder import NetworkBuilder\n",
    "from libs.ScisciDataset import ScisciDataset"
   ]
  },
  {
   "cell_type": "code",
   "execution_count": 2,
   "metadata": {},
   "outputs": [],
   "source": [
    "df = pd.read_pickle('../../data/dataset.p')"
   ]
  },
  {
   "cell_type": "code",
   "execution_count": 3,
   "metadata": {},
   "outputs": [],
   "source": [
    "ref_df = pd.read_json('../../data/references.json')"
   ]
  },
  {
   "cell_type": "code",
   "execution_count": 4,
   "metadata": {},
   "outputs": [],
   "source": [
    "def save_dataset(dataset, file_name):\n",
    "    with open(file_name, 'wb') as handle:\n",
    "        pickle.dump(dataset, handle, protocol=pickle.HIGHEST_PROTOCOL)\n"
   ]
  },
  {
   "cell_type": "markdown",
   "metadata": {},
   "source": [
    "# TF-IDF"
   ]
  },
  {
   "cell_type": "code",
   "execution_count": 4,
   "metadata": {},
   "outputs": [],
   "source": [
    "nb = NetworkBuilder(df, references=ref_df)"
   ]
  },
  {
   "cell_type": "code",
   "execution_count": 5,
   "metadata": {},
   "outputs": [],
   "source": [
    "X,LE = nb.prepare_metadata(text_encoding = 'tfidf')"
   ]
  },
  {
   "cell_type": "code",
   "execution_count": 9,
   "metadata": {},
   "outputs": [],
   "source": [
    "edge_index,eid_row_indices = nb.build_edges()"
   ]
  },
  {
   "cell_type": "code",
   "execution_count": 9,
   "metadata": {},
   "outputs": [],
   "source": [
    "save_dataset(edge_index, '../../data/torch/tfidf/edge_pairs.p')\n",
    "save_dataset(X, '../../data/torch/tfidf/x.p')\n",
    "save_dataset(eid_row_indices, '../../data/torch/tfidf/eid_row_indices.p')\n",
    "save_dataset(LE, '../../data/torch/tfidf/LE.p')"
   ]
  },
  {
   "cell_type": "code",
   "execution_count": null,
   "metadata": {},
   "outputs": [],
   "source": [
    "x_tfidf = pd.read_pickle('../../data/torch/tfidf/x.p')"
   ]
  },
  {
   "cell_type": "markdown",
   "metadata": {},
   "source": [
    "## D2V"
   ]
  },
  {
   "cell_type": "code",
   "execution_count": 5,
   "metadata": {},
   "outputs": [],
   "source": [
    "df = pd.read_pickle('../../data/dataset.p')"
   ]
  },
  {
   "cell_type": "code",
   "execution_count": 6,
   "metadata": {},
   "outputs": [],
   "source": [
    "nb = NetworkBuilder(df, references=ref_df)"
   ]
  },
  {
   "cell_type": "code",
   "execution_count": 7,
   "metadata": {},
   "outputs": [],
   "source": [
    "X,LE = nb.prepare_metadata(text_encoding = 'd2v')"
   ]
  },
  {
   "cell_type": "code",
   "execution_count": 10,
   "metadata": {},
   "outputs": [],
   "source": [
    "edge_index,eid_row_indices = nb.build_edges()"
   ]
  },
  {
   "cell_type": "code",
   "execution_count": 13,
   "metadata": {},
   "outputs": [],
   "source": [
    "def filter_references(corpus_eid, references):\n",
    "    #remove references without ID\n",
    "    ref_df = references.copy()\n",
    "    ref_df = ref_df[ref_df.eid_of_ref.notnull()].reset_index(drop=True)\n",
    "    # add the '2-s2.0-' of the eid_of_ref\n",
    "    ref_df['eid_of_ref'] = ref_df['eid_of_ref'].apply(lambda x: '2-s2.0-' + str(int(x)))\n",
    "    #filter for within corpus eids\n",
    "    ref_df = ref_df[ref_df['eid_of_ref'].isin(corpus_eid)]\n",
    "    ref_df = ref_df[ref_df['eid'].isin(corpus_eid)]\n",
    "    return ref_df"
   ]
  },
  {
   "cell_type": "code",
   "execution_count": 18,
   "metadata": {},
   "outputs": [],
   "source": [
    "filter_ref_df = filter_references(df.eid.unique(),ref_df)"
   ]
  },
  {
   "cell_type": "code",
   "execution_count": 29,
   "metadata": {},
   "outputs": [],
   "source": [
    "network_ids = set(filter_ref_df.eid_of_ref).union(set(filter_ref_df.eid))"
   ]
  },
  {
   "cell_type": "code",
   "execution_count": 33,
   "metadata": {},
   "outputs": [],
   "source": [
    "with open('../../results/network_ids.txt', 'w') as f:\n",
    "    for item in list(network_ids):\n",
    "        f.write(\"%s\\n\" % item)"
   ]
  },
  {
   "cell_type": "code",
   "execution_count": 121,
   "metadata": {},
   "outputs": [],
   "source": [
    "save_dataset(edge_index, '../../data/torch/d2v/edge_pairs.p')\n",
    "save_dataset(X, '../../data/torch/d2v/x.p')\n",
    "save_dataset(eid_row_indices, '../../data/torch/d2v/eid_row_indices.p')\n",
    "save_dataset(LE, '../../data/torch/d2v/LE.p')"
   ]
  },
  {
   "cell_type": "code",
   "execution_count": 11,
   "metadata": {},
   "outputs": [],
   "source": [
    "x_d2v = pd.read_pickle('../../data/torch/d2v/x.p')"
   ]
  },
  {
   "cell_type": "code",
   "execution_count": 12,
   "metadata": {},
   "outputs": [
    {
     "data": {
      "text/plain": [
       "torch.Size([22151, 463])"
      ]
     },
     "execution_count": 12,
     "metadata": {},
     "output_type": "execute_result"
    }
   ],
   "source": [
    "x_d2v.shape"
   ]
  },
  {
   "cell_type": "code",
   "execution_count": 20,
   "metadata": {},
   "outputs": [
    {
     "name": "stdout",
     "output_type": "stream",
     "text": [
      "Processing...\n",
      "Done!\n"
     ]
    }
   ],
   "source": [
    "# dataset\n",
    "dataset = ScisciDataset(root='test',raw_path = '../../data/torch/d2v')\n",
    "data = dataset[0]\n",
    "#data = train_test_split_edges(data)"
   ]
  },
  {
   "cell_type": "code",
   "execution_count": 21,
   "metadata": {},
   "outputs": [
    {
     "data": {
      "text/plain": [
       "Data(edge_index=[2, 68797], x=[22151, 263])"
      ]
     },
     "execution_count": 21,
     "metadata": {},
     "output_type": "execute_result"
    }
   ],
   "source": [
    "data"
   ]
  },
  {
   "cell_type": "markdown",
   "metadata": {},
   "source": [
    "# BERT"
   ]
  },
  {
   "cell_type": "code",
   "execution_count": 6,
   "metadata": {},
   "outputs": [],
   "source": [
    "nb = NetworkBuilder(df, references=ref_df)"
   ]
  },
  {
   "cell_type": "code",
   "execution_count": 7,
   "metadata": {},
   "outputs": [],
   "source": [
    "X,LE = nb.prepare_metadata(text_encoding = 'bert')"
   ]
  },
  {
   "cell_type": "code",
   "execution_count": 8,
   "metadata": {},
   "outputs": [],
   "source": [
    "edge_index,eid_row_indices = nb.build_edges()"
   ]
  },
  {
   "cell_type": "code",
   "execution_count": 9,
   "metadata": {},
   "outputs": [
    {
     "data": {
      "text/plain": [
       "torch.Size([22151, 831])"
      ]
     },
     "execution_count": 9,
     "metadata": {},
     "output_type": "execute_result"
    }
   ],
   "source": [
    "X.shape"
   ]
  },
  {
   "cell_type": "code",
   "execution_count": 10,
   "metadata": {},
   "outputs": [],
   "source": [
    "save_dataset(edge_index, '../../data/torch/bert/edge_pairs.p')\n",
    "save_dataset(X, '../../data/torch/bert/x.p')\n",
    "save_dataset(eid_row_indices, '../../data/torch/bert/eid_row_indices.p')\n",
    "save_dataset(LE, '../../data/torch/bert/LE.p')"
   ]
  }
 ],
 "metadata": {
  "kernelspec": {
   "display_name": "Python 3",
   "language": "python",
   "name": "python3"
  },
  "language_info": {
   "codemirror_mode": {
    "name": "ipython",
    "version": 3
   },
   "file_extension": ".py",
   "mimetype": "text/x-python",
   "name": "python",
   "nbconvert_exporter": "python",
   "pygments_lexer": "ipython3",
   "version": "3.7.3"
  }
 },
 "nbformat": 4,
 "nbformat_minor": 4
}
