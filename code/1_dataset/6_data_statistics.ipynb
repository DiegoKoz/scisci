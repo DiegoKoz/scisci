{
 "cells": [
  {
   "cell_type": "code",
   "execution_count": 1,
   "metadata": {},
   "outputs": [],
   "source": [
    "import pandas as pd\n",
    "import numpy as np\n",
    "import pickle\n",
    "from igraph import *\n",
    "from tqdm.notebook import tqdm\n",
    "import matplotlib\n",
    "%matplotlib inline\n",
    "\n"
   ]
  },
  {
   "cell_type": "code",
   "execution_count": 2,
   "metadata": {},
   "outputs": [],
   "source": [
    "df = pd.read_pickle('../../data/dataset.p')"
   ]
  },
  {
   "cell_type": "markdown",
   "metadata": {},
   "source": [
    "### 1.Subject areas"
   ]
  },
  {
   "cell_type": "code",
   "execution_count": 49,
   "metadata": {},
   "outputs": [],
   "source": [
    "journals = df.filter(['publicationName','subject_areas'])\n",
    "\n",
    "journals['subject_areas'] = journals.apply(lambda x: [l[0] for l in x.subject_areas],axis=1)\n",
    "\n",
    "journals[['subject_areas_0','subject_areas_1','subject_areas_2','subject_areas_3','subject_areas_4','subject_areas_5']] = pd.DataFrame(journals.subject_areas.tolist())\n",
    "\n",
    "journals.subject_areas = None"
   ]
  },
  {
   "cell_type": "markdown",
   "metadata": {},
   "source": [
    "## subfields"
   ]
  },
  {
   "cell_type": "code",
   "execution_count": 53,
   "metadata": {},
   "outputs": [],
   "source": [
    "quant = ['scientometrics','journal of informetrics']\n",
    "hist_phil = ['british journal for the history of science','isis','science and education',            \n",
    "             'science and technology studies','science, technology and society','social studies of science',\n",
    "             'studies in history and philosophy of science','synthese']\n",
    "management = ['research policy','science and public policy']\n",
    "social_sci = ['minerva','public understanding of science','research evaluation', 'science, technology and human values']\n",
    "\n",
    "df.loc[df.publicationName.isin(quant), 'field'] = 'Library and Information Sciences'\n",
    "df.loc[df.publicationName.isin(management), 'field'] = 'Management'\n",
    "df.loc[df.publicationName.isin(social_sci), 'field'] = 'Education, Communication and Anthropology'\n",
    "df.loc[df.publicationName.isin(hist_phil), 'field'] = 'History and Philosophy'\n",
    "#df.loc[df.publicationName.isin(education), 'field'] = 'Education'\n",
    "\n"
   ]
  },
  {
   "cell_type": "code",
   "execution_count": 55,
   "metadata": {},
   "outputs": [],
   "source": [
    "def most_cited(series):\n",
    "\n",
    "    return set(df.title[df.citedby_count == max(series)].values)"
   ]
  },
  {
   "cell_type": "code",
   "execution_count": 56,
   "metadata": {},
   "outputs": [],
   "source": [
    "def mean_round(x):\n",
    "    return round(np.mean(x),2)"
   ]
  },
  {
   "cell_type": "code",
   "execution_count": 67,
   "metadata": {},
   "outputs": [],
   "source": [
    "def make_summary(df):\n",
    "\n",
    "    summary_stats = df.groupby(['publicationName','field']).citedby_count.agg(['count', mean_round, 'max']).sort_values(by =['field','mean_round'])\n",
    "    summary_stats.reset_index(inplace=True)\n",
    "\n",
    "    summary_stats['publicationName'] = summary_stats.apply(lambda x: x.publicationName.title(),axis=1)\n",
    "    total = ['Total',' ',summary_stats['count'].sum(),mean_round(summary_stats['mean_round']),summary_stats['max'].max()]\n",
    "\n",
    "    summary_stats.loc['Total']= total\n",
    "\n",
    "    summary_stats = summary_stats.sort_values(by=['field','count'], ascending=False)\n",
    "\n",
    "    summary_stats.set_index(['field', 'publicationName'],inplace=True)\n",
    "    return summary_stats"
   ]
  },
  {
   "cell_type": "code",
   "execution_count": 69,
   "metadata": {},
   "outputs": [],
   "source": [
    "summary_stats = make_summary(df)"
   ]
  },
  {
   "cell_type": "code",
   "execution_count": 70,
   "metadata": {},
   "outputs": [
    {
     "name": "stdout",
     "output_type": "stream",
     "text": [
      "\\begin{tabular}{llrrr}\n",
      "\\toprule\n",
      "  &       &  count &  mean\\_round &   max \\\\\n",
      "field & publicationName &        &             &       \\\\\n",
      "\\midrule\n",
      "Management & Research Policy &   3221 &       83.75 &  4820 \\\\\n",
      "  & Science And Public Policy &   1707 &       13.27 &   462 \\\\\n",
      "Library and Information Sciences & Scientometrics &   5136 &       20.04 &  1334 \\\\\n",
      "  & Journal Of Informetrics &    876 &       22.63 &   352 \\\\\n",
      "History and Philosophy & Synthese &   4151 &        8.53 &   910 \\\\\n",
      "  & Social Studies Of Science &   1069 &       40.95 &  4709 \\\\\n",
      "  & Science And Education &   1034 &       11.60 &   298 \\\\\n",
      "  & Studies In History And Philosophy Of Science &    911 &        8.76 &   145 \\\\\n",
      "  & Isis &    523 &       12.47 &   415 \\\\\n",
      "  & Science, Technology And Society &    345 &        6.07 &   122 \\\\\n",
      "  & British Journal For The History Of Science &    276 &        9.57 &    88 \\\\\n",
      "  & Science And Technology Studies &    111 &        5.29 &    39 \\\\\n",
      "Education, Communication and Anthropology & Public Understanding Of Science &    977 &       25.91 &   518 \\\\\n",
      "  & Science, Technology And Human Values &    757 &       32.87 &   828 \\\\\n",
      "  & Research Evaluation &    666 &       13.15 &   223 \\\\\n",
      "  & Minerva &    391 &       16.51 &   624 \\\\\n",
      "  & Total &  22151 &       20.71 &  4820 \\\\\n",
      "\\bottomrule\n",
      "\\end{tabular}\n",
      "\n"
     ]
    }
   ],
   "source": [
    "print(summary_stats.to_latex(index=True))"
   ]
  },
  {
   "cell_type": "markdown",
   "metadata": {},
   "source": [
    "# 2.Network"
   ]
  },
  {
   "cell_type": "code",
   "execution_count": 12,
   "metadata": {},
   "outputs": [],
   "source": [
    "raw_dir = '../../data/torch/bert/'\n",
    "names = ['x.p', 'edge_pairs.p', 'eid_row_indices.p']\n",
    "x,edge_pairs,eid_row_indices = [pickle.load(open('{}/{}'.format(raw_dir, name), 'rb'))for name in names]\n",
    "\n"
   ]
  },
  {
   "cell_type": "code",
   "execution_count": 13,
   "metadata": {},
   "outputs": [],
   "source": [
    "edge_pairs = edge_pairs.detach().numpy()\n",
    "\n",
    "edge_pairs_df = pd.DataFrame(edge_pairs).T\n",
    "\n",
    "_ = edge_pairs_df.merge(eid_row_indices, left_on=0, right_on='index')\n",
    "_ = _.merge(eid_row_indices, left_on=1, right_on='index')\n",
    "\n",
    "edges = _.loc[:,['eid_x','eid_y']]"
   ]
  },
  {
   "cell_type": "code",
   "execution_count": 14,
   "metadata": {},
   "outputs": [],
   "source": [
    "g = Graph.TupleList(edges.values,directed=False)"
   ]
  },
  {
   "cell_type": "markdown",
   "metadata": {},
   "source": [
    "descriptive statistics"
   ]
  },
  {
   "cell_type": "code",
   "execution_count": 90,
   "metadata": {},
   "outputs": [
    {
     "data": {
      "text/plain": [
       "6.1414321323727865"
      ]
     },
     "execution_count": 90,
     "metadata": {},
     "output_type": "execute_result"
    }
   ],
   "source": [
    "g.average_path_length()"
   ]
  },
  {
   "cell_type": "code",
   "execution_count": 91,
   "metadata": {},
   "outputs": [
    {
     "data": {
      "text/plain": [
       "8.29979490891543"
      ]
     },
     "execution_count": 91,
     "metadata": {},
     "output_type": "execute_result"
    }
   ],
   "source": [
    "np.mean(g.degree())"
   ]
  },
  {
   "cell_type": "code",
   "execution_count": 92,
   "metadata": {},
   "outputs": [
    {
     "data": {
      "text/plain": [
       "282"
      ]
     },
     "execution_count": 92,
     "metadata": {},
     "output_type": "execute_result"
    }
   ],
   "source": [
    "np.max(g.degree())"
   ]
  },
  {
   "cell_type": "code",
   "execution_count": 93,
   "metadata": {},
   "outputs": [
    {
     "data": {
      "text/plain": [
       "16578"
      ]
     },
     "execution_count": 93,
     "metadata": {},
     "output_type": "execute_result"
    }
   ],
   "source": [
    "g.vcount()"
   ]
  },
  {
   "cell_type": "code",
   "execution_count": 94,
   "metadata": {},
   "outputs": [
    {
     "data": {
      "text/plain": [
       "16578"
      ]
     },
     "execution_count": 94,
     "metadata": {},
     "output_type": "execute_result"
    }
   ],
   "source": [
    "len(set(edges.eid_x).union(set(edges.eid_y)))"
   ]
  },
  {
   "cell_type": "code",
   "execution_count": 95,
   "metadata": {},
   "outputs": [
    {
     "data": {
      "text/plain": [
       "68797"
      ]
     },
     "execution_count": 95,
     "metadata": {},
     "output_type": "execute_result"
    }
   ],
   "source": [
    "g.ecount()"
   ]
  },
  {
   "cell_type": "code",
   "execution_count": 98,
   "metadata": {},
   "outputs": [
    {
     "data": {
      "text/plain": [
       "-0.0060198543679408365"
      ]
     },
     "execution_count": 98,
     "metadata": {},
     "output_type": "execute_result"
    }
   ],
   "source": [
    "g.assortativity_degree()"
   ]
  },
  {
   "cell_type": "code",
   "execution_count": 99,
   "metadata": {},
   "outputs": [
    {
     "data": {
      "text/plain": [
       "37807.8781517674"
      ]
     },
     "execution_count": 99,
     "metadata": {},
     "output_type": "execute_result"
    }
   ],
   "source": [
    "np.mean(g.betweenness())"
   ]
  },
  {
   "cell_type": "code",
   "execution_count": 104,
   "metadata": {},
   "outputs": [
    {
     "data": {
      "text/plain": [
       "False"
      ]
     },
     "execution_count": 104,
     "metadata": {},
     "output_type": "execute_result"
    }
   ],
   "source": [
    "g.is_connected()"
   ]
  },
  {
   "cell_type": "code",
   "execution_count": 100,
   "metadata": {},
   "outputs": [],
   "source": [
    "comps= g.components()"
   ]
  },
  {
   "cell_type": "code",
   "execution_count": 101,
   "metadata": {},
   "outputs": [],
   "source": [
    "giant = comps.giant()"
   ]
  },
  {
   "cell_type": "code",
   "execution_count": 102,
   "metadata": {},
   "outputs": [
    {
     "data": {
      "text/plain": [
       "68168"
      ]
     },
     "execution_count": 102,
     "metadata": {},
     "output_type": "execute_result"
    }
   ],
   "source": [
    "giant.ecount()"
   ]
  },
  {
   "cell_type": "code",
   "execution_count": 105,
   "metadata": {},
   "outputs": [
    {
     "data": {
      "text/plain": [
       "15615"
      ]
     },
     "execution_count": 105,
     "metadata": {},
     "output_type": "execute_result"
    }
   ],
   "source": [
    "giant.vcount()"
   ]
  },
  {
   "cell_type": "code",
   "execution_count": 109,
   "metadata": {},
   "outputs": [
    {
     "name": "stdout",
     "output_type": "stream",
     "text": [
      "Edges not in the giant component: 629\n",
      "Vertices not in the giant component: 963\n"
     ]
    }
   ],
   "source": [
    "print('Edges not in the giant component: {}'.format(g.ecount()-giant.ecount()))\n",
    "print('Vertices not in the giant component: {}'.format(g.vcount()-giant.vcount()))"
   ]
  },
  {
   "cell_type": "code",
   "execution_count": 112,
   "metadata": {},
   "outputs": [
    {
     "data": {
      "text/plain": [
       "0.17105498895935597"
      ]
     },
     "execution_count": 112,
     "metadata": {},
     "output_type": "execute_result"
    }
   ],
   "source": [
    "np.mean(giant.closeness())"
   ]
  },
  {
   "cell_type": "code",
   "execution_count": 114,
   "metadata": {},
   "outputs": [
    {
     "data": {
      "text/plain": [
       "0.011214141865822723"
      ]
     },
     "execution_count": 114,
     "metadata": {},
     "output_type": "execute_result"
    }
   ],
   "source": [
    "np.mean(giant.eigenvector_centrality())\n",
    "np.mean(g.eigenvector_centrality())"
   ]
  },
  {
   "cell_type": "code",
   "execution_count": 115,
   "metadata": {},
   "outputs": [
    {
     "data": {
      "text/plain": [
       "(15475, 15550, 37)"
      ]
     },
     "execution_count": 115,
     "metadata": {},
     "output_type": "execute_result"
    }
   ],
   "source": [
    "g.farthest_points()"
   ]
  },
  {
   "cell_type": "code",
   "execution_count": 116,
   "metadata": {},
   "outputs": [
    {
     "data": {
      "text/plain": [
       "37"
      ]
     },
     "execution_count": 116,
     "metadata": {},
     "output_type": "execute_result"
    }
   ],
   "source": [
    "g.diameter()"
   ]
  },
  {
   "cell_type": "code",
   "execution_count": 120,
   "metadata": {},
   "outputs": [
    {
     "data": {
      "text/plain": [
       "'IGRAPH UN-- 16578 68797 -- \\n+ attr: name (v)'"
      ]
     },
     "execution_count": 120,
     "metadata": {},
     "output_type": "execute_result"
    }
   ],
   "source": [
    "g.summary()"
   ]
  },
  {
   "cell_type": "markdown",
   "metadata": {},
   "source": [
    "### small word"
   ]
  },
  {
   "cell_type": "code",
   "execution_count": 156,
   "metadata": {},
   "outputs": [
    {
     "data": {
      "text/plain": [
       "0.08137529739399864"
      ]
     },
     "execution_count": 156,
     "metadata": {},
     "output_type": "execute_result"
    }
   ],
   "source": [
    "#clustering coefficient\n",
    "clust_coef = g.transitivity_undirected()\n",
    "clust_coef"
   ]
  },
  {
   "cell_type": "code",
   "execution_count": 157,
   "metadata": {},
   "outputs": [
    {
     "data": {
      "text/plain": [
       "6.1414321323727865"
      ]
     },
     "execution_count": 157,
     "metadata": {},
     "output_type": "execute_result"
    }
   ],
   "source": [
    "average_path_length = g.average_path_length()\n",
    "average_path_length"
   ]
  },
  {
   "cell_type": "markdown",
   "metadata": {},
   "source": [
    "### random model"
   ]
  },
  {
   "cell_type": "code",
   "execution_count": 143,
   "metadata": {},
   "outputs": [],
   "source": [
    "def random_model(n = g.vcount(), m = g.ecount(), times=100):\n",
    "    rnd_clust_coefs = []\n",
    "    rnd_lengths = []\n",
    "    for i in tqdm(range(times)):\n",
    "        rnd_graph = Graph.Erdos_Renyi(n=n,m=m)\n",
    "        clust = rnd_graph.transitivity_undirected()\n",
    "        length = rnd_graph.average_path_length()\n",
    "        rnd_clust_coefs += [clust]\n",
    "        rnd_lengths += [length]\n",
    "    return rnd_clust_coefs, rnd_lengths"
   ]
  },
  {
   "cell_type": "code",
   "execution_count": 149,
   "metadata": {},
   "outputs": [
    {
     "data": {
      "application/vnd.jupyter.widget-view+json": {
       "model_id": "061afdb94d2549398d3925f1244098d2",
       "version_major": 2,
       "version_minor": 0
      },
      "text/plain": [
       "HBox(children=(FloatProgress(value=0.0), HTML(value='')))"
      ]
     },
     "metadata": {},
     "output_type": "display_data"
    },
    {
     "name": "stdout",
     "output_type": "stream",
     "text": [
      "\n"
     ]
    }
   ],
   "source": [
    "rnd_clust_coefs, rnd_lengths = random_model()"
   ]
  },
  {
   "cell_type": "code",
   "execution_count": 153,
   "metadata": {},
   "outputs": [
    {
     "data": {
      "text/plain": [
       "0.0005009197590637582"
      ]
     },
     "execution_count": 153,
     "metadata": {},
     "output_type": "execute_result"
    }
   ],
   "source": [
    "mean_random_clust_coef = np.mean(rnd_clust_coefs)\n",
    "mean_random_clust_coef"
   ]
  },
  {
   "cell_type": "code",
   "execution_count": 158,
   "metadata": {},
   "outputs": [
    {
     "data": {
      "text/plain": [
       "4.8269054722968345"
      ]
     },
     "execution_count": 158,
     "metadata": {},
     "output_type": "execute_result"
    }
   ],
   "source": [
    "mean_random_length = np.mean(rnd_lengths)\n",
    "mean_random_length"
   ]
  },
  {
   "cell_type": "code",
   "execution_count": 159,
   "metadata": {},
   "outputs": [
    {
     "data": {
      "text/plain": [
       "162.45176182726905"
      ]
     },
     "execution_count": 159,
     "metadata": {},
     "output_type": "execute_result"
    }
   ],
   "source": [
    "clust_coef/mean_random_clust_coef"
   ]
  },
  {
   "cell_type": "code",
   "execution_count": 160,
   "metadata": {},
   "outputs": [
    {
     "data": {
      "text/plain": [
       "1.2723332096765607"
      ]
     },
     "execution_count": 160,
     "metadata": {},
     "output_type": "execute_result"
    }
   ],
   "source": [
    "average_path_length / mean_random_length"
   ]
  },
  {
   "cell_type": "code",
   "execution_count": null,
   "metadata": {},
   "outputs": [],
   "source": [
    "average_path_length"
   ]
  },
  {
   "cell_type": "markdown",
   "metadata": {},
   "source": [
    "### 3. Differences between dataset and network "
   ]
  },
  {
   "cell_type": "code",
   "execution_count": 78,
   "metadata": {},
   "outputs": [],
   "source": [
    "network_ids = [line.rstrip('\\n') for line in open('../../results/network_ids.txt')]"
   ]
  },
  {
   "cell_type": "code",
   "execution_count": 79,
   "metadata": {},
   "outputs": [],
   "source": [
    "in_net_df = df[df.eid.isin(network_ids)]\n",
    "out_net_df = df[-df.eid.isin(network_ids)]"
   ]
  },
  {
   "cell_type": "code",
   "execution_count": 81,
   "metadata": {},
   "outputs": [
    {
     "data": {
      "text/plain": [
       "18.99228422752557"
      ]
     },
     "execution_count": 81,
     "metadata": {},
     "output_type": "execute_result"
    }
   ],
   "source": [
    "out_net_df.citedby_count.mean()"
   ]
  },
  {
   "cell_type": "code",
   "execution_count": 82,
   "metadata": {},
   "outputs": [
    {
     "name": "stderr",
     "output_type": "stream",
     "text": [
      "/opt/conda/lib/python3.7/site-packages/pandas/core/indexing.py:1745: SettingWithCopyWarning: \n",
      "A value is trying to be set on a copy of a slice from a DataFrame.\n",
      "Try using .loc[row_indexer,col_indexer] = value instead\n",
      "\n",
      "See the caveats in the documentation: https://pandas.pydata.org/pandas-docs/stable/user_guide/indexing.html#returning-a-view-versus-a-copy\n",
      "  isetter(ilocs[0], value)\n"
     ]
    },
    {
     "data": {
      "text/plain": [
       "2001.289790059214"
      ]
     },
     "execution_count": 82,
     "metadata": {},
     "output_type": "execute_result"
    }
   ],
   "source": [
    "out_net_df.loc[:,'coverDate'] = out_net_df.loc[:,'coverDate'].apply(lambda x: int(x.rsplit('-')[0]))\n",
    "\n",
    "out_net_df.coverDate.mean()"
   ]
  },
  {
   "cell_type": "markdown",
   "metadata": {},
   "source": [
    "#### Out of network stats"
   ]
  },
  {
   "cell_type": "code",
   "execution_count": 75,
   "metadata": {},
   "outputs": [
    {
     "data": {
      "text/html": [
       "<div>\n",
       "<style scoped>\n",
       "    .dataframe tbody tr th:only-of-type {\n",
       "        vertical-align: middle;\n",
       "    }\n",
       "\n",
       "    .dataframe tbody tr th {\n",
       "        vertical-align: top;\n",
       "    }\n",
       "\n",
       "    .dataframe thead th {\n",
       "        text-align: right;\n",
       "    }\n",
       "</style>\n",
       "<table border=\"1\" class=\"dataframe\">\n",
       "  <thead>\n",
       "    <tr style=\"text-align: right;\">\n",
       "      <th></th>\n",
       "      <th></th>\n",
       "      <th>count</th>\n",
       "      <th>mean_round</th>\n",
       "      <th>max</th>\n",
       "    </tr>\n",
       "    <tr>\n",
       "      <th>field</th>\n",
       "      <th>publicationName</th>\n",
       "      <th></th>\n",
       "      <th></th>\n",
       "      <th></th>\n",
       "    </tr>\n",
       "  </thead>\n",
       "  <tbody>\n",
       "    <tr>\n",
       "      <th rowspan=\"2\" valign=\"top\">Management</th>\n",
       "      <th>Research Policy</th>\n",
       "      <td>643</td>\n",
       "      <td>79.72</td>\n",
       "      <td>3404</td>\n",
       "    </tr>\n",
       "    <tr>\n",
       "      <th>Science And Public Policy</th>\n",
       "      <td>637</td>\n",
       "      <td>10.31</td>\n",
       "      <td>409</td>\n",
       "    </tr>\n",
       "    <tr>\n",
       "      <th rowspan=\"2\" valign=\"top\">Library and Information Sciences</th>\n",
       "      <th>Scientometrics</th>\n",
       "      <td>784</td>\n",
       "      <td>19.73</td>\n",
       "      <td>435</td>\n",
       "    </tr>\n",
       "    <tr>\n",
       "      <th>Journal Of Informetrics</th>\n",
       "      <td>12</td>\n",
       "      <td>13.50</td>\n",
       "      <td>28</td>\n",
       "    </tr>\n",
       "    <tr>\n",
       "      <th rowspan=\"8\" valign=\"top\">History and Philosophy</th>\n",
       "      <th>Synthese</th>\n",
       "      <td>1702</td>\n",
       "      <td>6.70</td>\n",
       "      <td>564</td>\n",
       "    </tr>\n",
       "    <tr>\n",
       "      <th>Studies In History And Philosophy Of Science</th>\n",
       "      <td>372</td>\n",
       "      <td>7.68</td>\n",
       "      <td>63</td>\n",
       "    </tr>\n",
       "    <tr>\n",
       "      <th>Isis</th>\n",
       "      <td>250</td>\n",
       "      <td>9.09</td>\n",
       "      <td>123</td>\n",
       "    </tr>\n",
       "    <tr>\n",
       "      <th>Science And Education</th>\n",
       "      <td>250</td>\n",
       "      <td>10.92</td>\n",
       "      <td>298</td>\n",
       "    </tr>\n",
       "    <tr>\n",
       "      <th>British Journal For The History Of Science</th>\n",
       "      <td>145</td>\n",
       "      <td>9.03</td>\n",
       "      <td>54</td>\n",
       "    </tr>\n",
       "    <tr>\n",
       "      <th>Social Studies Of Science</th>\n",
       "      <td>139</td>\n",
       "      <td>24.71</td>\n",
       "      <td>648</td>\n",
       "    </tr>\n",
       "    <tr>\n",
       "      <th>Science, Technology And Society</th>\n",
       "      <td>134</td>\n",
       "      <td>4.15</td>\n",
       "      <td>47</td>\n",
       "    </tr>\n",
       "    <tr>\n",
       "      <th>Science And Technology Studies</th>\n",
       "      <td>8</td>\n",
       "      <td>2.25</td>\n",
       "      <td>8</td>\n",
       "    </tr>\n",
       "    <tr>\n",
       "      <th rowspan=\"4\" valign=\"top\">Education, Communication and Anthropology</th>\n",
       "      <th>Public Understanding Of Science</th>\n",
       "      <td>170</td>\n",
       "      <td>25.32</td>\n",
       "      <td>416</td>\n",
       "    </tr>\n",
       "    <tr>\n",
       "      <th>Research Evaluation</th>\n",
       "      <td>142</td>\n",
       "      <td>6.15</td>\n",
       "      <td>76</td>\n",
       "    </tr>\n",
       "    <tr>\n",
       "      <th>Science, Technology And Human Values</th>\n",
       "      <td>106</td>\n",
       "      <td>19.51</td>\n",
       "      <td>272</td>\n",
       "    </tr>\n",
       "    <tr>\n",
       "      <th>Minerva</th>\n",
       "      <td>79</td>\n",
       "      <td>7.24</td>\n",
       "      <td>78</td>\n",
       "    </tr>\n",
       "    <tr>\n",
       "      <th></th>\n",
       "      <th>Total</th>\n",
       "      <td>5573</td>\n",
       "      <td>16.00</td>\n",
       "      <td>3404</td>\n",
       "    </tr>\n",
       "  </tbody>\n",
       "</table>\n",
       "</div>"
      ],
      "text/plain": [
       "                                                                                        count  \\\n",
       "field                                     publicationName                                       \n",
       "Management                                Research Policy                                 643   \n",
       "                                          Science And Public Policy                       637   \n",
       "Library and Information Sciences          Scientometrics                                  784   \n",
       "                                          Journal Of Informetrics                          12   \n",
       "History and Philosophy                    Synthese                                       1702   \n",
       "                                          Studies In History And Philosophy Of Science    372   \n",
       "                                          Isis                                            250   \n",
       "                                          Science And Education                           250   \n",
       "                                          British Journal For The History Of Science      145   \n",
       "                                          Social Studies Of Science                       139   \n",
       "                                          Science, Technology And Society                 134   \n",
       "                                          Science And Technology Studies                    8   \n",
       "Education, Communication and Anthropology Public Understanding Of Science                 170   \n",
       "                                          Research Evaluation                             142   \n",
       "                                          Science, Technology And Human Values            106   \n",
       "                                          Minerva                                          79   \n",
       "                                          Total                                          5573   \n",
       "\n",
       "                                                                                        mean_round  \\\n",
       "field                                     publicationName                                            \n",
       "Management                                Research Policy                                    79.72   \n",
       "                                          Science And Public Policy                          10.31   \n",
       "Library and Information Sciences          Scientometrics                                     19.73   \n",
       "                                          Journal Of Informetrics                            13.50   \n",
       "History and Philosophy                    Synthese                                            6.70   \n",
       "                                          Studies In History And Philosophy Of Science        7.68   \n",
       "                                          Isis                                                9.09   \n",
       "                                          Science And Education                              10.92   \n",
       "                                          British Journal For The History Of Science          9.03   \n",
       "                                          Social Studies Of Science                          24.71   \n",
       "                                          Science, Technology And Society                     4.15   \n",
       "                                          Science And Technology Studies                      2.25   \n",
       "Education, Communication and Anthropology Public Understanding Of Science                    25.32   \n",
       "                                          Research Evaluation                                 6.15   \n",
       "                                          Science, Technology And Human Values               19.51   \n",
       "                                          Minerva                                             7.24   \n",
       "                                          Total                                              16.00   \n",
       "\n",
       "                                                                                         max  \n",
       "field                                     publicationName                                     \n",
       "Management                                Research Policy                               3404  \n",
       "                                          Science And Public Policy                      409  \n",
       "Library and Information Sciences          Scientometrics                                 435  \n",
       "                                          Journal Of Informetrics                         28  \n",
       "History and Philosophy                    Synthese                                       564  \n",
       "                                          Studies In History And Philosophy Of Science    63  \n",
       "                                          Isis                                           123  \n",
       "                                          Science And Education                          298  \n",
       "                                          British Journal For The History Of Science      54  \n",
       "                                          Social Studies Of Science                      648  \n",
       "                                          Science, Technology And Society                 47  \n",
       "                                          Science And Technology Studies                   8  \n",
       "Education, Communication and Anthropology Public Understanding Of Science                416  \n",
       "                                          Research Evaluation                             76  \n",
       "                                          Science, Technology And Human Values           272  \n",
       "                                          Minerva                                         78  \n",
       "                                          Total                                         3404  "
      ]
     },
     "execution_count": 75,
     "metadata": {},
     "output_type": "execute_result"
    }
   ],
   "source": [
    "oon_summary_stats = make_summary(out_net_df)\n",
    "oon_summary_stats"
   ]
  },
  {
   "cell_type": "markdown",
   "metadata": {},
   "source": [
    "#### In network stats"
   ]
  },
  {
   "cell_type": "code",
   "execution_count": 85,
   "metadata": {},
   "outputs": [
    {
     "data": {
      "text/html": [
       "<div>\n",
       "<style scoped>\n",
       "    .dataframe tbody tr th:only-of-type {\n",
       "        vertical-align: middle;\n",
       "    }\n",
       "\n",
       "    .dataframe tbody tr th {\n",
       "        vertical-align: top;\n",
       "    }\n",
       "\n",
       "    .dataframe thead th {\n",
       "        text-align: right;\n",
       "    }\n",
       "</style>\n",
       "<table border=\"1\" class=\"dataframe\">\n",
       "  <thead>\n",
       "    <tr style=\"text-align: right;\">\n",
       "      <th></th>\n",
       "      <th></th>\n",
       "      <th>count</th>\n",
       "      <th>mean_round</th>\n",
       "      <th>max</th>\n",
       "    </tr>\n",
       "    <tr>\n",
       "      <th>field</th>\n",
       "      <th>publicationName</th>\n",
       "      <th></th>\n",
       "      <th></th>\n",
       "      <th></th>\n",
       "    </tr>\n",
       "  </thead>\n",
       "  <tbody>\n",
       "    <tr>\n",
       "      <th rowspan=\"2\" valign=\"top\">Management</th>\n",
       "      <th>Research Policy</th>\n",
       "      <td>2578</td>\n",
       "      <td>84.75</td>\n",
       "      <td>4820</td>\n",
       "    </tr>\n",
       "    <tr>\n",
       "      <th>Science And Public Policy</th>\n",
       "      <td>1070</td>\n",
       "      <td>15.03</td>\n",
       "      <td>462</td>\n",
       "    </tr>\n",
       "    <tr>\n",
       "      <th rowspan=\"2\" valign=\"top\">Library and Information Sciences</th>\n",
       "      <th>Scientometrics</th>\n",
       "      <td>4352</td>\n",
       "      <td>20.10</td>\n",
       "      <td>1334</td>\n",
       "    </tr>\n",
       "    <tr>\n",
       "      <th>Journal Of Informetrics</th>\n",
       "      <td>864</td>\n",
       "      <td>22.76</td>\n",
       "      <td>352</td>\n",
       "    </tr>\n",
       "    <tr>\n",
       "      <th rowspan=\"8\" valign=\"top\">History and Philosophy</th>\n",
       "      <th>Synthese</th>\n",
       "      <td>2449</td>\n",
       "      <td>9.80</td>\n",
       "      <td>910</td>\n",
       "    </tr>\n",
       "    <tr>\n",
       "      <th>Social Studies Of Science</th>\n",
       "      <td>930</td>\n",
       "      <td>43.38</td>\n",
       "      <td>4709</td>\n",
       "    </tr>\n",
       "    <tr>\n",
       "      <th>Science And Education</th>\n",
       "      <td>784</td>\n",
       "      <td>11.82</td>\n",
       "      <td>177</td>\n",
       "    </tr>\n",
       "    <tr>\n",
       "      <th>Studies In History And Philosophy Of Science</th>\n",
       "      <td>539</td>\n",
       "      <td>9.50</td>\n",
       "      <td>145</td>\n",
       "    </tr>\n",
       "    <tr>\n",
       "      <th>Isis</th>\n",
       "      <td>273</td>\n",
       "      <td>15.57</td>\n",
       "      <td>415</td>\n",
       "    </tr>\n",
       "    <tr>\n",
       "      <th>Science, Technology And Society</th>\n",
       "      <td>211</td>\n",
       "      <td>7.28</td>\n",
       "      <td>122</td>\n",
       "    </tr>\n",
       "    <tr>\n",
       "      <th>British Journal For The History Of Science</th>\n",
       "      <td>131</td>\n",
       "      <td>10.16</td>\n",
       "      <td>88</td>\n",
       "    </tr>\n",
       "    <tr>\n",
       "      <th>Science And Technology Studies</th>\n",
       "      <td>103</td>\n",
       "      <td>5.52</td>\n",
       "      <td>39</td>\n",
       "    </tr>\n",
       "    <tr>\n",
       "      <th rowspan=\"4\" valign=\"top\">Education, Communication and Anthropology</th>\n",
       "      <th>Public Understanding Of Science</th>\n",
       "      <td>807</td>\n",
       "      <td>26.04</td>\n",
       "      <td>518</td>\n",
       "    </tr>\n",
       "    <tr>\n",
       "      <th>Science, Technology And Human Values</th>\n",
       "      <td>651</td>\n",
       "      <td>35.04</td>\n",
       "      <td>828</td>\n",
       "    </tr>\n",
       "    <tr>\n",
       "      <th>Research Evaluation</th>\n",
       "      <td>524</td>\n",
       "      <td>15.04</td>\n",
       "      <td>223</td>\n",
       "    </tr>\n",
       "    <tr>\n",
       "      <th>Minerva</th>\n",
       "      <td>312</td>\n",
       "      <td>18.86</td>\n",
       "      <td>624</td>\n",
       "    </tr>\n",
       "    <tr>\n",
       "      <th></th>\n",
       "      <th>Total</th>\n",
       "      <td>16578</td>\n",
       "      <td>21.92</td>\n",
       "      <td>4820</td>\n",
       "    </tr>\n",
       "  </tbody>\n",
       "</table>\n",
       "</div>"
      ],
      "text/plain": [
       "                                                                                        count  \\\n",
       "field                                     publicationName                                       \n",
       "Management                                Research Policy                                2578   \n",
       "                                          Science And Public Policy                      1070   \n",
       "Library and Information Sciences          Scientometrics                                 4352   \n",
       "                                          Journal Of Informetrics                         864   \n",
       "History and Philosophy                    Synthese                                       2449   \n",
       "                                          Social Studies Of Science                       930   \n",
       "                                          Science And Education                           784   \n",
       "                                          Studies In History And Philosophy Of Science    539   \n",
       "                                          Isis                                            273   \n",
       "                                          Science, Technology And Society                 211   \n",
       "                                          British Journal For The History Of Science      131   \n",
       "                                          Science And Technology Studies                  103   \n",
       "Education, Communication and Anthropology Public Understanding Of Science                 807   \n",
       "                                          Science, Technology And Human Values            651   \n",
       "                                          Research Evaluation                             524   \n",
       "                                          Minerva                                         312   \n",
       "                                          Total                                         16578   \n",
       "\n",
       "                                                                                        mean_round  \\\n",
       "field                                     publicationName                                            \n",
       "Management                                Research Policy                                    84.75   \n",
       "                                          Science And Public Policy                          15.03   \n",
       "Library and Information Sciences          Scientometrics                                     20.10   \n",
       "                                          Journal Of Informetrics                            22.76   \n",
       "History and Philosophy                    Synthese                                            9.80   \n",
       "                                          Social Studies Of Science                          43.38   \n",
       "                                          Science And Education                              11.82   \n",
       "                                          Studies In History And Philosophy Of Science        9.50   \n",
       "                                          Isis                                               15.57   \n",
       "                                          Science, Technology And Society                     7.28   \n",
       "                                          British Journal For The History Of Science         10.16   \n",
       "                                          Science And Technology Studies                      5.52   \n",
       "Education, Communication and Anthropology Public Understanding Of Science                    26.04   \n",
       "                                          Science, Technology And Human Values               35.04   \n",
       "                                          Research Evaluation                                15.04   \n",
       "                                          Minerva                                            18.86   \n",
       "                                          Total                                              21.92   \n",
       "\n",
       "                                                                                         max  \n",
       "field                                     publicationName                                     \n",
       "Management                                Research Policy                               4820  \n",
       "                                          Science And Public Policy                      462  \n",
       "Library and Information Sciences          Scientometrics                                1334  \n",
       "                                          Journal Of Informetrics                        352  \n",
       "History and Philosophy                    Synthese                                       910  \n",
       "                                          Social Studies Of Science                     4709  \n",
       "                                          Science And Education                          177  \n",
       "                                          Studies In History And Philosophy Of Science   145  \n",
       "                                          Isis                                           415  \n",
       "                                          Science, Technology And Society                122  \n",
       "                                          British Journal For The History Of Science      88  \n",
       "                                          Science And Technology Studies                  39  \n",
       "Education, Communication and Anthropology Public Understanding Of Science                518  \n",
       "                                          Science, Technology And Human Values           828  \n",
       "                                          Research Evaluation                            223  \n",
       "                                          Minerva                                        624  \n",
       "                                          Total                                         4820  "
      ]
     },
     "execution_count": 85,
     "metadata": {},
     "output_type": "execute_result"
    }
   ],
   "source": [
    "in_net_summary = make_summary(in_net_df)\n",
    "in_net_summary"
   ]
  },
  {
   "cell_type": "markdown",
   "metadata": {},
   "source": [
    "# Topic Modelling distribution"
   ]
  },
  {
   "cell_type": "code",
   "execution_count": null,
   "metadata": {},
   "outputs": [],
   "source": [
    "LDA = LDA_wrapper()"
   ]
  },
  {
   "cell_type": "code",
   "execution_count": null,
   "metadata": {},
   "outputs": [],
   "source": [
    "lda_model = LDA.restore_model(\"../../results/lda_model20t.p\")\n",
    "texts = df['text_clean'].values\n",
    "data_vectorized, vectorizer = LDA.data_vectorizer(data=texts)"
   ]
  },
  {
   "cell_type": "code",
   "execution_count": null,
   "metadata": {},
   "outputs": [],
   "source": [
    "def print_topics(model, count_vectorizer, n_top_words):\n",
    "    words = count_vectorizer.get_feature_names()\n",
    "    for topic_idx, topic in enumerate(model.components_):\n",
    "        print(\"\\nTopic #%d:\" % topic_idx)\n",
    "        print(\" \".join([words[i]\n",
    "                        for i in topic.argsort()[:-n_top_words - 1:-1]]))"
   ]
  },
  {
   "cell_type": "code",
   "execution_count": null,
   "metadata": {},
   "outputs": [],
   "source": [
    "print_topics(lda_model, vectorizer, 5)\n"
   ]
  },
  {
   "cell_type": "markdown",
   "metadata": {},
   "source": [
    "selected topics: \n",
    "The LDAViz change the topics order, so we need to map them. \n",
    "\n",
    "\n",
    "|LDAViz | lda_model|\n",
    "|---|--|\n",
    "|1 | 18|\n",
    "|2 | 6|\n",
    "|3 | 16|\n",
    "|4 | 11|\n",
    "|5 | 19|\n",
    "|6 | 7|\n",
    "|7 | 16|\n",
    "|8 | 9|\n",
    "|9 | 8|\n",
    "|10 | 14|\n",
    "|11 | 10|\n",
    "|12 | 12|\n",
    "|13 | 5|\n",
    "|14 | 13|\n",
    "|15 | 2|\n",
    "|16 | 4|\n",
    "|17 | 3|\n",
    "|18 | 0|\n",
    "|19 | 15|\n",
    "|20 | 1|\n",
    "\n"
   ]
  },
  {
   "cell_type": "code",
   "execution_count": null,
   "metadata": {},
   "outputs": [],
   "source": [
    "def get_topics(x):\n",
    "    topic_1 = x[18]\n",
    "    topic_2 = x[6]\n",
    "    topic_3 = x[16]\n",
    "    topic_4 = x[11]\n",
    "    topic_5 = x[19]\n",
    "    topic_6 = x[7]\n",
    "    topic_7 = x[16]\n",
    "    topic_8 = x[9]\n",
    "    topic_9 = x[8]\n",
    "    topic_10 = x[14]\n",
    "    topic_11 = x[10]\n",
    "    topic_12 = x[12]\n",
    "    topic_13 = x[5]\n",
    "    topic_14 = x[13]\n",
    "    topic_15 = x[2]\n",
    "    topic_16 = x[4]\n",
    "    topic_17 = x[3]\n",
    "    topic_18 = x[0]\n",
    "    topic_19 = x[15]\n",
    "    topic_20 = x[1]\n",
    "\n",
    "\n",
    "    return{'topic_1':topic_1,\n",
    "    'topic_2':topic_2,\n",
    "    'topic_3':topic_3,\n",
    "    'topic_4':topic_4,\n",
    "    'topic_5':topic_5,\n",
    "    'topic_6':topic_6,\n",
    "    'topic_7':topic_7,\n",
    "    'topic_8':topic_8,\n",
    "    'topic_9':topic_9,\n",
    "    'topic_10':topic_10,\n",
    "    'topic_11':topic_11,\n",
    "    'topic_12':topic_12,\n",
    "    'topic_13':topic_13,\n",
    "    'topic_14':topic_14,\n",
    "    'topic_15':topic_15,\n",
    "    'topic_16':topic_16,\n",
    "    'topic_17':topic_17,\n",
    "    'topic_18':topic_18,\n",
    "    'topic_19':topic_19,\n",
    "    'topic_20':topic_20}\n",
    "    "
   ]
  },
  {
   "cell_type": "code",
   "execution_count": null,
   "metadata": {},
   "outputs": [],
   "source": [
    "topics_df = pd.DataFrame(list(df.apply(lambda x: get_topics(x.topic_dist), axis=1)))"
   ]
  },
  {
   "cell_type": "code",
   "execution_count": null,
   "metadata": {},
   "outputs": [],
   "source": [
    "topics_df[['publicationName','field']] = df[['publicationName','field']].reset_index(drop=True)"
   ]
  },
  {
   "cell_type": "code",
   "execution_count": null,
   "metadata": {},
   "outputs": [],
   "source": [
    "topics_summary = topics_df.groupby(['publicationName','field']).agg(mean)\n",
    "topics_df.to_csv('../../results/topics_dist_by_article.csv', index=False)"
   ]
  }
 ],
 "metadata": {
  "kernelspec": {
   "display_name": "Python 3",
   "language": "python",
   "name": "python3"
  },
  "language_info": {
   "codemirror_mode": {
    "name": "ipython",
    "version": 3
   },
   "file_extension": ".py",
   "mimetype": "text/x-python",
   "name": "python",
   "nbconvert_exporter": "python",
   "pygments_lexer": "ipython3",
   "version": "3.7.3"
  }
 },
 "nbformat": 4,
 "nbformat_minor": 4
}
