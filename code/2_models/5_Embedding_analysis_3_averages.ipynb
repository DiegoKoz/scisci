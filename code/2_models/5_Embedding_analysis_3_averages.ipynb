{
 "cells": [
  {
   "cell_type": "code",
   "execution_count": 248,
   "metadata": {},
   "outputs": [],
   "source": [
    "#!pip install pycountry_convert"
   ]
  },
  {
   "cell_type": "code",
   "execution_count": 1,
   "metadata": {},
   "outputs": [],
   "source": [
    "import pandas as pd\n",
    "import numpy as np\n",
    "from sklearn.manifold import TSNE\n",
    "from sklearn.decomposition import PCA\n",
    "import matplotlib.pyplot as plt\n",
    "import seaborn as sns; sns.set(color_codes=True)\n",
    "import os\n",
    "\n",
    "from sklearn.metrics.pairwise import cosine_similarity\n",
    "\n",
    "import pycountry_convert as pc"
   ]
  },
  {
   "cell_type": "code",
   "execution_count": 2,
   "metadata": {},
   "outputs": [],
   "source": [
    "df = pd.read_pickle('../../results/embedding_df.p')"
   ]
  },
  {
   "cell_type": "code",
   "execution_count": 3,
   "metadata": {},
   "outputs": [],
   "source": [
    "def extract_element(l,pos=0):\n",
    "    if l is None:\n",
    "        return [np.nan]\n",
    "    else:\n",
    "        return list(map(lambda x: x[pos],l))"
   ]
  },
  {
   "cell_type": "code",
   "execution_count": 4,
   "metadata": {},
   "outputs": [],
   "source": [
    "## Keep only obs with affiliation info\n",
    "df = df[-df['affiliation'].isnull()].copy()"
   ]
  },
  {
   "cell_type": "code",
   "execution_count": 5,
   "metadata": {},
   "outputs": [],
   "source": [
    "def build_metadata(df):\n",
    "    #number of authors and institutions\n",
    "    df['n_authors'] = df.authors.apply(lambda x: len(x))\n",
    "    df['n_institutions'] = df.affiliation.apply(lambda x:len(set(extract_element(x,1))))\n",
    "\n",
    "    # first author country\n",
    "    df['first_author_country'] = df.affiliation.apply(lambda x: extract_element(x,pos=3)[0])\n",
    "    \n",
    "    # citation ranking\n",
    "    \n",
    "    q1,q2,q3 = df.citedby_count.quantile([.25, .5, .75])\n",
    "\n",
    "    df['citedby_rank'] = None\n",
    "    df.loc[df.citedby_count==0,'citedby_rank'] = 'zero'\n",
    "    df.loc[(df.citedby_count > 0) & (df.citedby_count <= q1),'citedby_rank'] = 'low'\n",
    "    df.loc[(df.citedby_count >q1) & (df.citedby_count <= q2),'citedby_rank'] = 'mid-low'\n",
    "    df.loc[(df.citedby_count >q2) & (df.citedby_count <= q3),'citedby_rank'] = 'mid-high'\n",
    "    df.loc[(df.citedby_count >q3),'citedby_rank'] = 'high'\n",
    "\n",
    "    # international collaboration\n",
    "    international_collaboration_mask = df.affiliation.apply(lambda x: len(set(extract_element(x,pos=3)))>1)\n",
    "    institutional_collaboration_mask = df.affiliation.apply(lambda x: len(set(extract_element(x,1)))>1)\n",
    "    internal_collaboration_mask = (df.n_institutions == 1) & (df.n_authors >1)\n",
    "    unique_author_mask = df.n_authors == 1\n",
    "\n",
    "    df['collaboration_status'] = None\n",
    "    df.loc[unique_author_mask,'collaboration_status']                = 'unique_author'\n",
    "    df.loc[internal_collaboration_mask,'collaboration_status']       = 'internal_colab'\n",
    "    df.loc[institutional_collaboration_mask,'collaboration_status']  = 'institutional_colab'\n",
    "    df.loc[international_collaboration_mask,'collaboration_status']  = 'international_colab'\n",
    "    return df"
   ]
  },
  {
   "cell_type": "code",
   "execution_count": 6,
   "metadata": {},
   "outputs": [],
   "source": [
    "df = build_metadata(df)"
   ]
  },
  {
   "cell_type": "code",
   "execution_count": 7,
   "metadata": {},
   "outputs": [],
   "source": [
    "rep_dict = {\"Cote d'Ivoire\":\"Côte d'Ivoire\",\n",
    "           'Germany (Democratic Republic, DDR)':'Germany',\n",
    "           'Libyan Arab Jamahiriya': 'Libya',\n",
    "           'Russian Federation': 'Russia'}"
   ]
  },
  {
   "cell_type": "code",
   "execution_count": 8,
   "metadata": {},
   "outputs": [],
   "source": [
    "df.first_author_country.replace(rep_dict,inplace=True)"
   ]
  },
  {
   "cell_type": "code",
   "execution_count": 9,
   "metadata": {},
   "outputs": [],
   "source": [
    "def dimensionality_reduction(embedding, rnd_state=1234):\n",
    "    embedding_list = [np.array(x) for x in embedding]\n",
    "    if len(embedding_list[0])>60:\n",
    "        embedding_list = PCA(n_components=10,random_state=rnd_state).fit_transform(embedding_list)\n",
    "    reduced_embed = TSNE(random_state=rnd_state).fit_transform(embedding_list)\n",
    "    x,y= zip(*reduced_embed)\n",
    "    return x,y\n",
    "    "
   ]
  },
  {
   "cell_type": "code",
   "execution_count": 10,
   "metadata": {},
   "outputs": [],
   "source": [
    "df['xs_gnn'], df['ys_gnn'] = dimensionality_reduction(df.embedding.values)\n",
    "df['xs_d2v'], df['ys_d2v'] = dimensionality_reduction(df.d2v_vec.values)\n",
    "df['xs_lda'], df['ys_lda']   = dimensionality_reduction(df.topic_dist.values)\n",
    "df['xs_bert'], df['ys_bert']   = dimensionality_reduction(df.bert_embedding.values)"
   ]
  },
  {
   "cell_type": "markdown",
   "metadata": {},
   "source": [
    "## Average embedding by country"
   ]
  },
  {
   "cell_type": "code",
   "execution_count": 172,
   "metadata": {},
   "outputs": [],
   "source": [
    "# First TSNE, then mean embedding\n",
    "df_countries = df[['first_author_country','xs_gnn','ys_gnn','xs_d2v','ys_d2v','xs_lda','ys_lda','xs_bert','ys_bert']].groupby('first_author_country').mean()"
   ]
  },
  {
   "cell_type": "code",
   "execution_count": 12,
   "metadata": {},
   "outputs": [],
   "source": [
    "def average_embedding(embeds):\n",
    "    embeds = np.array(list(map(lambda x: np.array(x),embeds)))\n",
    "    return list(np.average(embeds,axis=0))"
   ]
  },
  {
   "cell_type": "code",
   "execution_count": 174,
   "metadata": {},
   "outputs": [],
   "source": [
    "avg_embed = df.groupby('first_author_country').agg({'embedding' :average_embedding, 'bert_embedding':average_embedding})"
   ]
  },
  {
   "cell_type": "code",
   "execution_count": 175,
   "metadata": {},
   "outputs": [],
   "source": [
    "df_countries = df_countries.join(avg_embed).reset_index()"
   ]
  },
  {
   "cell_type": "code",
   "execution_count": 176,
   "metadata": {},
   "outputs": [],
   "source": [
    "# adding articles and citations by country\n",
    "n_articles = pd.DataFrame(df.first_author_country.value_counts()).reset_index()\n",
    "n_articles.columns = [\"first_author_country\",\"n\"]\n",
    "\n",
    "n_citations = pd.DataFrame(df.groupby('first_author_country').apply(lambda x:  np.sum(x['citedby_count']))).reset_index()\n",
    "n_citations.columns = [\"first_author_country\",\"n_citations\"]"
   ]
  },
  {
   "cell_type": "code",
   "execution_count": 177,
   "metadata": {},
   "outputs": [],
   "source": [
    "df_countries = df_countries.merge(n_articles, how='left',on = 'first_author_country')\n",
    "df_countries = df_countries.merge(n_citations, how='left',on = 'first_author_country')"
   ]
  },
  {
   "cell_type": "code",
   "execution_count": 178,
   "metadata": {},
   "outputs": [],
   "source": [
    "def country_to_continent(country_name):\n",
    "    country_code = pc.country_name_to_country_alpha2(country_name, cn_name_format=\"default\")\n",
    "    continent_code = pc.country_alpha2_to_continent_code(country_code)\n",
    "    continents = {\n",
    "    'NA': 'North America',\n",
    "    'SA': 'South America', \n",
    "    'AS': 'Asia',\n",
    "    'OC': 'Australia',\n",
    "    'AF': 'Africa',\n",
    "    'EU':'Europe'}\n",
    "    continent_name = continents[continent_code]\n",
    "    return continent_name"
   ]
  },
  {
   "cell_type": "code",
   "execution_count": 179,
   "metadata": {},
   "outputs": [],
   "source": [
    "df_countries['continent'] = df_countries.first_author_country.apply(lambda x: country_to_continent(x))"
   ]
  },
  {
   "cell_type": "code",
   "execution_count": 180,
   "metadata": {},
   "outputs": [
    {
     "data": {
      "text/html": [
       "<div>\n",
       "<style scoped>\n",
       "    .dataframe tbody tr th:only-of-type {\n",
       "        vertical-align: middle;\n",
       "    }\n",
       "\n",
       "    .dataframe tbody tr th {\n",
       "        vertical-align: top;\n",
       "    }\n",
       "\n",
       "    .dataframe thead th {\n",
       "        text-align: right;\n",
       "    }\n",
       "</style>\n",
       "<table border=\"1\" class=\"dataframe\">\n",
       "  <thead>\n",
       "    <tr style=\"text-align: right;\">\n",
       "      <th></th>\n",
       "      <th>first_author_country</th>\n",
       "      <th>xs_gnn</th>\n",
       "      <th>ys_gnn</th>\n",
       "      <th>xs_d2v</th>\n",
       "      <th>ys_d2v</th>\n",
       "      <th>xs_lda</th>\n",
       "      <th>ys_lda</th>\n",
       "      <th>xs_bert</th>\n",
       "      <th>ys_bert</th>\n",
       "      <th>embedding</th>\n",
       "      <th>bert_embedding</th>\n",
       "      <th>n</th>\n",
       "      <th>n_citations</th>\n",
       "      <th>continent</th>\n",
       "    </tr>\n",
       "  </thead>\n",
       "  <tbody>\n",
       "    <tr>\n",
       "      <th>0</th>\n",
       "      <td>Afghanistan</td>\n",
       "      <td>-22.084497</td>\n",
       "      <td>21.596331</td>\n",
       "      <td>-7.935746</td>\n",
       "      <td>-9.291619</td>\n",
       "      <td>30.279623</td>\n",
       "      <td>21.995905</td>\n",
       "      <td>-39.232651</td>\n",
       "      <td>10.866203</td>\n",
       "      <td>[0.09937576204538345, -0.1499500572681427, 0.0...</td>\n",
       "      <td>[-0.14081211388111115, 0.6634104251861572, 0.3...</td>\n",
       "      <td>1</td>\n",
       "      <td>12</td>\n",
       "      <td>Asia</td>\n",
       "    </tr>\n",
       "    <tr>\n",
       "      <th>1</th>\n",
       "      <td>Argentina</td>\n",
       "      <td>2.664158</td>\n",
       "      <td>-11.712130</td>\n",
       "      <td>0.476959</td>\n",
       "      <td>2.989679</td>\n",
       "      <td>-3.436787</td>\n",
       "      <td>-1.902636</td>\n",
       "      <td>1.965858</td>\n",
       "      <td>-5.882326</td>\n",
       "      <td>[-0.0688692871082042, -0.004559567078415837, -...</td>\n",
       "      <td>[-0.25964549709377543, 0.544784774045859, 0.20...</td>\n",
       "      <td>70</td>\n",
       "      <td>706</td>\n",
       "      <td>South America</td>\n",
       "    </tr>\n",
       "    <tr>\n",
       "      <th>2</th>\n",
       "      <td>Armenia</td>\n",
       "      <td>3.740608</td>\n",
       "      <td>58.245869</td>\n",
       "      <td>-62.793720</td>\n",
       "      <td>29.231318</td>\n",
       "      <td>8.083354</td>\n",
       "      <td>38.987820</td>\n",
       "      <td>52.023407</td>\n",
       "      <td>13.169700</td>\n",
       "      <td>[0.08625378459692001, -0.13854365050792694, 0....</td>\n",
       "      <td>[-0.5790920853614807, 0.6632298827171326, 0.54...</td>\n",
       "      <td>1</td>\n",
       "      <td>0</td>\n",
       "      <td>Asia</td>\n",
       "    </tr>\n",
       "    <tr>\n",
       "      <th>3</th>\n",
       "      <td>Australia</td>\n",
       "      <td>2.668652</td>\n",
       "      <td>-7.274022</td>\n",
       "      <td>1.988526</td>\n",
       "      <td>0.105757</td>\n",
       "      <td>-5.503249</td>\n",
       "      <td>-8.777452</td>\n",
       "      <td>-5.466384</td>\n",
       "      <td>-7.773093</td>\n",
       "      <td>[-0.06267788283064635, 0.0051406678594105, -0....</td>\n",
       "      <td>[-0.12296873397923781, 0.49959004517444106, 0....</td>\n",
       "      <td>685</td>\n",
       "      <td>13534</td>\n",
       "      <td>Australia</td>\n",
       "    </tr>\n",
       "    <tr>\n",
       "      <th>4</th>\n",
       "      <td>Austria</td>\n",
       "      <td>-3.013250</td>\n",
       "      <td>0.901200</td>\n",
       "      <td>-2.126365</td>\n",
       "      <td>1.159832</td>\n",
       "      <td>2.106125</td>\n",
       "      <td>-3.933488</td>\n",
       "      <td>-5.148671</td>\n",
       "      <td>1.685317</td>\n",
       "      <td>[-0.007104162813158911, -0.06734173420838194, ...</td>\n",
       "      <td>[-0.1574103880621159, 0.5258863435087812, 0.29...</td>\n",
       "      <td>173</td>\n",
       "      <td>4276</td>\n",
       "      <td>Europe</td>\n",
       "    </tr>\n",
       "    <tr>\n",
       "      <th>...</th>\n",
       "      <td>...</td>\n",
       "      <td>...</td>\n",
       "      <td>...</td>\n",
       "      <td>...</td>\n",
       "      <td>...</td>\n",
       "      <td>...</td>\n",
       "      <td>...</td>\n",
       "      <td>...</td>\n",
       "      <td>...</td>\n",
       "      <td>...</td>\n",
       "      <td>...</td>\n",
       "      <td>...</td>\n",
       "      <td>...</td>\n",
       "      <td>...</td>\n",
       "    </tr>\n",
       "    <tr>\n",
       "      <th>103</th>\n",
       "      <td>United Kingdom</td>\n",
       "      <td>2.274377</td>\n",
       "      <td>3.265688</td>\n",
       "      <td>0.615027</td>\n",
       "      <td>-0.389286</td>\n",
       "      <td>5.300108</td>\n",
       "      <td>-11.026015</td>\n",
       "      <td>-2.822585</td>\n",
       "      <td>0.726291</td>\n",
       "      <td>[-0.02675968813502442, -0.0116431515506117, -0...</td>\n",
       "      <td>[-0.13474996886606877, 0.533865930632009, 0.26...</td>\n",
       "      <td>2828</td>\n",
       "      <td>105688</td>\n",
       "      <td>Europe</td>\n",
       "    </tr>\n",
       "    <tr>\n",
       "      <th>104</th>\n",
       "      <td>United States</td>\n",
       "      <td>2.119999</td>\n",
       "      <td>-8.611614</td>\n",
       "      <td>0.122963</td>\n",
       "      <td>-0.380173</td>\n",
       "      <td>-5.684837</td>\n",
       "      <td>-10.479656</td>\n",
       "      <td>-0.989244</td>\n",
       "      <td>-7.361090</td>\n",
       "      <td>[-0.07600222199020047, 0.019961209373258345, -...</td>\n",
       "      <td>[-0.14122438095973747, 0.5103014469079801, 0.1...</td>\n",
       "      <td>5390</td>\n",
       "      <td>166892</td>\n",
       "      <td>North America</td>\n",
       "    </tr>\n",
       "    <tr>\n",
       "      <th>105</th>\n",
       "      <td>Uruguay</td>\n",
       "      <td>5.098570</td>\n",
       "      <td>40.060040</td>\n",
       "      <td>-16.927858</td>\n",
       "      <td>-6.760378</td>\n",
       "      <td>14.708404</td>\n",
       "      <td>19.112629</td>\n",
       "      <td>-0.555881</td>\n",
       "      <td>13.596688</td>\n",
       "      <td>[0.034609605092555285, -0.015240292355883867, ...</td>\n",
       "      <td>[-0.442035929299891, 0.5869422224350274, 0.340...</td>\n",
       "      <td>16</td>\n",
       "      <td>260</td>\n",
       "      <td>South America</td>\n",
       "    </tr>\n",
       "    <tr>\n",
       "      <th>106</th>\n",
       "      <td>Venezuela</td>\n",
       "      <td>-9.468658</td>\n",
       "      <td>-14.571891</td>\n",
       "      <td>-0.668383</td>\n",
       "      <td>1.751039</td>\n",
       "      <td>5.612797</td>\n",
       "      <td>-1.166492</td>\n",
       "      <td>-10.804595</td>\n",
       "      <td>-14.220075</td>\n",
       "      <td>[-0.12309855882726285, 0.1126473231807999, -0....</td>\n",
       "      <td>[-0.3441402609763748, 0.5541256164079127, 0.10...</td>\n",
       "      <td>23</td>\n",
       "      <td>239</td>\n",
       "      <td>South America</td>\n",
       "    </tr>\n",
       "    <tr>\n",
       "      <th>107</th>\n",
       "      <td>Viet Nam</td>\n",
       "      <td>11.465559</td>\n",
       "      <td>11.023075</td>\n",
       "      <td>-9.468426</td>\n",
       "      <td>-18.861313</td>\n",
       "      <td>21.977503</td>\n",
       "      <td>11.685557</td>\n",
       "      <td>-4.650784</td>\n",
       "      <td>19.958561</td>\n",
       "      <td>[0.05032784057160219, -0.08666245499625802, 0....</td>\n",
       "      <td>[-0.2564205452799797, 0.828933427731196, 0.321...</td>\n",
       "      <td>6</td>\n",
       "      <td>49</td>\n",
       "      <td>Asia</td>\n",
       "    </tr>\n",
       "  </tbody>\n",
       "</table>\n",
       "<p>108 rows × 14 columns</p>\n",
       "</div>"
      ],
      "text/plain": [
       "    first_author_country     xs_gnn     ys_gnn     xs_d2v     ys_d2v  \\\n",
       "0            Afghanistan -22.084497  21.596331  -7.935746  -9.291619   \n",
       "1              Argentina   2.664158 -11.712130   0.476959   2.989679   \n",
       "2                Armenia   3.740608  58.245869 -62.793720  29.231318   \n",
       "3              Australia   2.668652  -7.274022   1.988526   0.105757   \n",
       "4                Austria  -3.013250   0.901200  -2.126365   1.159832   \n",
       "..                   ...        ...        ...        ...        ...   \n",
       "103       United Kingdom   2.274377   3.265688   0.615027  -0.389286   \n",
       "104        United States   2.119999  -8.611614   0.122963  -0.380173   \n",
       "105              Uruguay   5.098570  40.060040 -16.927858  -6.760378   \n",
       "106            Venezuela  -9.468658 -14.571891  -0.668383   1.751039   \n",
       "107             Viet Nam  11.465559  11.023075  -9.468426 -18.861313   \n",
       "\n",
       "        xs_lda     ys_lda    xs_bert    ys_bert  \\\n",
       "0    30.279623  21.995905 -39.232651  10.866203   \n",
       "1    -3.436787  -1.902636   1.965858  -5.882326   \n",
       "2     8.083354  38.987820  52.023407  13.169700   \n",
       "3    -5.503249  -8.777452  -5.466384  -7.773093   \n",
       "4     2.106125  -3.933488  -5.148671   1.685317   \n",
       "..         ...        ...        ...        ...   \n",
       "103   5.300108 -11.026015  -2.822585   0.726291   \n",
       "104  -5.684837 -10.479656  -0.989244  -7.361090   \n",
       "105  14.708404  19.112629  -0.555881  13.596688   \n",
       "106   5.612797  -1.166492 -10.804595 -14.220075   \n",
       "107  21.977503  11.685557  -4.650784  19.958561   \n",
       "\n",
       "                                             embedding  \\\n",
       "0    [0.09937576204538345, -0.1499500572681427, 0.0...   \n",
       "1    [-0.0688692871082042, -0.004559567078415837, -...   \n",
       "2    [0.08625378459692001, -0.13854365050792694, 0....   \n",
       "3    [-0.06267788283064635, 0.0051406678594105, -0....   \n",
       "4    [-0.007104162813158911, -0.06734173420838194, ...   \n",
       "..                                                 ...   \n",
       "103  [-0.02675968813502442, -0.0116431515506117, -0...   \n",
       "104  [-0.07600222199020047, 0.019961209373258345, -...   \n",
       "105  [0.034609605092555285, -0.015240292355883867, ...   \n",
       "106  [-0.12309855882726285, 0.1126473231807999, -0....   \n",
       "107  [0.05032784057160219, -0.08666245499625802, 0....   \n",
       "\n",
       "                                        bert_embedding     n  n_citations  \\\n",
       "0    [-0.14081211388111115, 0.6634104251861572, 0.3...     1           12   \n",
       "1    [-0.25964549709377543, 0.544784774045859, 0.20...    70          706   \n",
       "2    [-0.5790920853614807, 0.6632298827171326, 0.54...     1            0   \n",
       "3    [-0.12296873397923781, 0.49959004517444106, 0....   685        13534   \n",
       "4    [-0.1574103880621159, 0.5258863435087812, 0.29...   173         4276   \n",
       "..                                                 ...   ...          ...   \n",
       "103  [-0.13474996886606877, 0.533865930632009, 0.26...  2828       105688   \n",
       "104  [-0.14122438095973747, 0.5103014469079801, 0.1...  5390       166892   \n",
       "105  [-0.442035929299891, 0.5869422224350274, 0.340...    16          260   \n",
       "106  [-0.3441402609763748, 0.5541256164079127, 0.10...    23          239   \n",
       "107  [-0.2564205452799797, 0.828933427731196, 0.321...     6           49   \n",
       "\n",
       "         continent  \n",
       "0             Asia  \n",
       "1    South America  \n",
       "2             Asia  \n",
       "3        Australia  \n",
       "4           Europe  \n",
       "..             ...  \n",
       "103         Europe  \n",
       "104  North America  \n",
       "105  South America  \n",
       "106  South America  \n",
       "107           Asia  \n",
       "\n",
       "[108 rows x 14 columns]"
      ]
     },
     "execution_count": 180,
     "metadata": {},
     "output_type": "execute_result"
    }
   ],
   "source": [
    "df_countries"
   ]
  },
  {
   "cell_type": "markdown",
   "metadata": {},
   "source": [
    "# Average Cosine similarity"
   ]
  },
  {
   "cell_type": "code",
   "execution_count": 234,
   "metadata": {},
   "outputs": [],
   "source": [
    "cos_sim_gnn = cosine_similarity(np.vstack(df_countries.embedding.values))\n",
    "cos_sim_bert = cosine_similarity(np.vstack(df_countries.bert_embedding.values))\n",
    "\n",
    "cos_sim_gnn_df = pd.DataFrame(np.mean(cos_sim_gnn, 0), index=df_countries.first_author_country, columns=['GNN'])\n",
    "cos_sim_bert_df = pd.DataFrame(np.mean(cos_sim_bert, 0), index=df_countries.first_author_country, columns=['BERT'])\n",
    "\n",
    "cos_sim_df = cos_sim_gnn_df.join(cos_sim_bert_df).reset_index()\n",
    "cos_sim_df =cos_sim_df.merge(df_countries[['first_author_country', 'n','n_citations','continent']])"
   ]
  },
  {
   "cell_type": "code",
   "execution_count": 246,
   "metadata": {},
   "outputs": [],
   "source": [
    "cos_sim_df.to_csv('../../results/country_average_sim.csv')"
   ]
  },
  {
   "cell_type": "markdown",
   "metadata": {},
   "source": [
    "## Quantitative Qualitative Axis"
   ]
  },
  {
   "cell_type": "code",
   "execution_count": 13,
   "metadata": {},
   "outputs": [],
   "source": [
    "def average_embedding(embeds):\n",
    "    embeds = np.array(list(map(lambda x: np.array(x),embeds)))\n",
    "    return list(np.average(embeds,axis=0))"
   ]
  },
  {
   "cell_type": "code",
   "execution_count": 18,
   "metadata": {},
   "outputs": [],
   "source": [
    "# First TSNE, then mean embedding\n",
    "df_journal = df[['publicationName','xs_gnn','ys_gnn','xs_d2v','ys_d2v','xs_lda','ys_lda','xs_bert','ys_bert']].groupby('publicationName').mean().reset_index()\n",
    "\n",
    "n_articles = pd.DataFrame(df.publicationName.value_counts()).reset_index()\n",
    "n_articles.columns = [\"publicationName\",\"n\"]\n",
    "\n",
    "n_citations = pd.DataFrame(df.groupby('publicationName').apply(lambda x:  np.sum(x['citedby_count']))).reset_index()\n",
    "n_citations.columns = [\"publicationName\",\"n_citations\"]\n",
    "\n",
    "df_journal = df_journal.merge(n_articles, how='left',on = 'publicationName')\n",
    "df_journal = df_journal.merge(n_citations, how='left',on = 'publicationName')"
   ]
  },
  {
   "cell_type": "code",
   "execution_count": 14,
   "metadata": {},
   "outputs": [],
   "source": [
    "avg_embed = df.groupby('publicationName').agg({'embedding':average_embedding, 'bert_embedding': average_embedding})\n",
    "\n",
    "bert_axis = np.array(avg_embed.loc['journal of informetrics','bert_embedding']) - np.array(avg_embed.loc['isis','bert_embedding'])\n",
    "gnn_axis = np.array(avg_embed.loc['journal of informetrics','embedding']) - np.array(avg_embed.loc['isis','embedding'])\n",
    "gnn_axis2 = np.array(avg_embed.loc['research policy','embedding']) - np.array(avg_embed.loc['science, technology and society','embedding'])\n",
    "\n",
    "cossim_gnn = cosine_similarity(np.array([np.array(x) for x in avg_embed.embedding]),gnn_axis.reshape(1,-1))\n",
    "cossim_gnn2 = cosine_similarity(np.array([np.array(x) for x in avg_embed.embedding]),gnn_axis2.reshape(1,-1))\n",
    "cossim_bert = cosine_similarity(np.array([np.array(x) for x in avg_embed.bert_embedding]),bert_axis.reshape(1,-1))\n",
    "\n",
    "\n",
    "avg_embed['cossim_gnn'] = cossim_gnn\n",
    "avg_embed['cossim_gnn2'] = cossim_gnn2\n",
    "avg_embed['cossim_bert'] = cossim_bert\n",
    "\n",
    "#avg_embed.reset_index(inplace=True)"
   ]
  },
  {
   "cell_type": "code",
   "execution_count": 19,
   "metadata": {},
   "outputs": [],
   "source": [
    "avg_embed = avg_embed.merge(df_journal.loc[:,['publicationName','n','n_citations']], how='left',on = 'publicationName')"
   ]
  },
  {
   "cell_type": "code",
   "execution_count": 20,
   "metadata": {},
   "outputs": [],
   "source": [
    "quant = ['scientometrics','journal of informetrics']\n",
    "hist_phil = ['british journal for the history of science','isis','science and education',            \n",
    "             'science and technology studies','science, technology and society','social studies of science',\n",
    "             'studies in history and philosophy of science','synthese']\n",
    "management = ['research policy','science and public policy']\n",
    "social_sci = ['minerva','public understanding of science','research evaluation', 'science, technology and human values']\n",
    "\n",
    "\n",
    "\n",
    "avg_embed.loc[avg_embed.publicationName.isin(quant), 'field'] = 'Library and Information Sciences'\n",
    "avg_embed.loc[avg_embed.publicationName.isin(management), 'field'] = 'Management'\n",
    "avg_embed.loc[avg_embed.publicationName.isin(social_sci), 'field'] = 'Education, Communication and Anthropology'\n",
    "avg_embed.loc[avg_embed.publicationName.isin(hist_phil), 'field'] = 'History and Philosophy'"
   ]
  },
  {
   "cell_type": "code",
   "execution_count": 63,
   "metadata": {},
   "outputs": [],
   "source": [
    "avg_embed.loc[:,['publicationName','cossim_gnn','cossim_bert','n','n_citations','field']].to_csv('../../results/avg_embed_journal.csv')"
   ]
  }
 ],
 "metadata": {
  "kernelspec": {
   "display_name": "Python 3",
   "language": "python",
   "name": "python3"
  },
  "language_info": {
   "codemirror_mode": {
    "name": "ipython",
    "version": 3
   },
   "file_extension": ".py",
   "mimetype": "text/x-python",
   "name": "python",
   "nbconvert_exporter": "python",
   "pygments_lexer": "ipython3",
   "version": "3.7.3"
  }
 },
 "nbformat": 4,
 "nbformat_minor": 4
}
