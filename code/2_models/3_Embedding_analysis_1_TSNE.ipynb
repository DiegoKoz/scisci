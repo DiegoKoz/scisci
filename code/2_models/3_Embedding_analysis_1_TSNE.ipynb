{
 "cells": [
  {
   "cell_type": "code",
   "execution_count": 1,
   "metadata": {},
   "outputs": [],
   "source": [
    "import pandas as pd\n",
    "import numpy as np\n",
    "from sklearn.manifold import TSNE\n",
    "from sklearn.decomposition import PCA\n",
    "import matplotlib.pyplot as plt\n",
    "import seaborn as sns; sns.set(color_codes=True)\n",
    "import os\n",
    "\n",
    "\n",
    "import torch\n",
    "from torch.utils.tensorboard import SummaryWriter\n",
    "from libs.ScisciDataset import ScisciDataset\n",
    "import torch_geometric.transforms as T\n",
    "from torch_geometric.nn import GAE\n",
    "\n",
    "from libs.ComputeResult import EncoderGCN\n",
    "from torch_geometric.nn.models import InnerProductDecoder\n",
    "\n",
    "\n",
    "from sklearn.metrics.pairwise import cosine_similarity\n"
   ]
  },
  {
   "cell_type": "markdown",
   "metadata": {},
   "source": [
    "# create dataset with embeddings"
   ]
  },
  {
   "cell_type": "code",
   "execution_count": 2,
   "metadata": {},
   "outputs": [],
   "source": [
    "# dataset\n",
    "dataset_bert = ScisciDataset(root='data/bert',raw_path='../../data/torch/bert/',transform=T.NormalizeFeatures())"
   ]
  },
  {
   "cell_type": "code",
   "execution_count": 3,
   "metadata": {},
   "outputs": [],
   "source": [
    "#load dataset w/ metadata and indices order to check\n",
    "indices = pd.read_pickle('../../data/torch/bert/eid_row_indices.p')\n",
    "del indices['index']\n",
    "df = pd.read_pickle('../../data/dataset.p')"
   ]
  },
  {
   "cell_type": "code",
   "execution_count": 4,
   "metadata": {},
   "outputs": [],
   "source": [
    "device = torch.device(\"cuda:0\" if torch.cuda.is_available() else \"cpu\")\n",
    "\n",
    "model = GAE(encoder = EncoderGCN(in_channels=dataset_bert.num_features, out_channels=32),\n",
    "    decoder=InnerProductDecoder())\n",
    "\n",
    "model.load_state_dict(torch.load('models/GCN_bert_model.pt'))\n",
    "model = model.eval()\n",
    "\n",
    "data = dataset_bert[0]\n",
    "\n",
    "x = data.x.to(device)\n",
    "edge_index = data.edge_index.to(device)\n",
    "model = model.to(device)\n",
    "z = model.encode(x,edge_index)\n",
    "z = z.cpu().detach().numpy()"
   ]
  },
  {
   "cell_type": "code",
   "execution_count": 5,
   "metadata": {},
   "outputs": [],
   "source": [
    "df = pd.merge(indices,df, how='left', left_on=['eid'], right_on=['eid'])\n",
    "\n",
    "df['embedding'] = z.tolist()"
   ]
  },
  {
   "cell_type": "code",
   "execution_count": 6,
   "metadata": {},
   "outputs": [],
   "source": [
    "# Set up a logs directory, so Tensorboard knows where to look for files\n",
    "log_dir='runs/projector/'\n",
    "if not os.path.exists(log_dir):\n",
    "    os.makedirs(log_dir)"
   ]
  },
  {
   "cell_type": "code",
   "execution_count": 7,
   "metadata": {},
   "outputs": [],
   "source": [
    "def extract_element(l,pos=0):\n",
    "    if l is None:\n",
    "        return [np.nan]\n",
    "    else:\n",
    "        return list(map(lambda x: x[pos],l))"
   ]
  },
  {
   "cell_type": "code",
   "execution_count": 8,
   "metadata": {},
   "outputs": [],
   "source": [
    "## Keep only obs with affiliation info\n",
    "df = df[-df['affiliation'].isnull()].copy()"
   ]
  },
  {
   "cell_type": "code",
   "execution_count": 9,
   "metadata": {},
   "outputs": [],
   "source": [
    "def build_metadata(df):\n",
    "    #number of authors and institutions\n",
    "    df['n_authors'] = df.authors.apply(lambda x: len(x))\n",
    "    df['n_institutions'] = df.affiliation.apply(lambda x:len(set(extract_element(x,1))))\n",
    "\n",
    "    # first author country\n",
    "    df['first_author_country'] = df.affiliation.apply(lambda x: extract_element(x,pos=3)[0])\n",
    "    \n",
    "    # citation ranking\n",
    "    \n",
    "    q1,q2,q3 = df.citedby_count.quantile([.25, .5, .75])\n",
    "\n",
    "    df['citedby_rank'] = None\n",
    "    df.loc[df.citedby_count==0,'citedby_rank'] = 'zero'\n",
    "    df.loc[(df.citedby_count > 0) & (df.citedby_count <= q1),'citedby_rank'] = 'low'\n",
    "    df.loc[(df.citedby_count >q1) & (df.citedby_count <= q2),'citedby_rank'] = 'mid-low'\n",
    "    df.loc[(df.citedby_count >q2) & (df.citedby_count <= q3),'citedby_rank'] = 'mid-high'\n",
    "    df.loc[(df.citedby_count >q3),'citedby_rank'] = 'high'\n",
    "\n",
    "    # international collaboration\n",
    "    international_collaboration_mask = df.affiliation.apply(lambda x: len(set(extract_element(x,pos=3)))>1)\n",
    "    institutional_collaboration_mask = df.affiliation.apply(lambda x: len(set(extract_element(x,1)))>1)\n",
    "    internal_collaboration_mask = (df.n_institutions == 1) & (df.n_authors >1)\n",
    "    unique_author_mask = df.n_authors == 1\n",
    "\n",
    "    df['collaboration_status'] = None\n",
    "    df.loc[unique_author_mask,'collaboration_status']                = 'unique_author'\n",
    "    df.loc[internal_collaboration_mask,'collaboration_status']       = 'internal_colab'\n",
    "    df.loc[institutional_collaboration_mask,'collaboration_status']  = 'institutional_colab'\n",
    "    df.loc[international_collaboration_mask,'collaboration_status']  = 'international_colab'\n",
    "    \n",
    "    df.loc[:,'coverDate'] = df.loc[:,'coverDate'].apply(lambda x: int(x.rsplit('-')[0]))\n",
    "\n",
    "\n",
    "\n",
    "    return df"
   ]
  },
  {
   "cell_type": "code",
   "execution_count": 10,
   "metadata": {},
   "outputs": [],
   "source": [
    "df = build_metadata(df)"
   ]
  },
  {
   "cell_type": "code",
   "execution_count": 11,
   "metadata": {},
   "outputs": [
    {
     "data": {
      "text/plain": [
       "Index(['eid', 'title', 'abstract', 'affiliation', 'aggregationType',\n",
       "       'authkeywords', 'authorgroup', 'authors', 'chemicals', 'citedby_count',\n",
       "       'coverDate', 'description', 'doi', 'funding', 'funding_text',\n",
       "       'citedby_link', 'contributor_group', 'language', 'publicationName',\n",
       "       'references', 'subject_areas', 'issueIdentifier', 'volume',\n",
       "       'text_clean', 'title_clean', 'topic_dist', 'tfidf_vec', 'd2v_vec',\n",
       "       'bert_embedding', 'embedding', 'n_authors', 'n_institutions',\n",
       "       'first_author_country', 'citedby_rank', 'collaboration_status'],\n",
       "      dtype='object')"
      ]
     },
     "execution_count": 11,
     "metadata": {},
     "output_type": "execute_result"
    }
   ],
   "source": [
    "df.columns"
   ]
  },
  {
   "cell_type": "code",
   "execution_count": 12,
   "metadata": {},
   "outputs": [],
   "source": [
    "df.loc[:, df.columns != 'tfidf_vec'].to_pickle('../../results/embedding_df.p')"
   ]
  },
  {
   "cell_type": "markdown",
   "metadata": {},
   "source": [
    "## Tensorboard projection"
   ]
  },
  {
   "cell_type": "markdown",
   "metadata": {},
   "source": [
    "### create projector metadata"
   ]
  },
  {
   "cell_type": "code",
   "execution_count": null,
   "metadata": {},
   "outputs": [],
   "source": [
    "metadata_df = df.loc[:,['eid','title','publicationName','coverDate','citedby_count','n_authors','n_institutions','first_author_country','citedby_rank','collaboration_status','embedding']]\n"
   ]
  },
  {
   "cell_type": "code",
   "execution_count": null,
   "metadata": {},
   "outputs": [],
   "source": [
    "metadata_df.dtypes"
   ]
  },
  {
   "cell_type": "code",
   "execution_count": null,
   "metadata": {},
   "outputs": [],
   "source": [
    "metadata_df.sample(2)"
   ]
  },
  {
   "cell_type": "code",
   "execution_count": null,
   "metadata": {},
   "outputs": [],
   "source": [
    "metadata_list = metadata_df.loc[:,['title','publicationName','coverDate','citedby_count','n_authors','n_institutions','first_author_country','citedby_rank','collaboration_status','eid']].values.tolist()"
   ]
  },
  {
   "cell_type": "code",
   "execution_count": 41,
   "metadata": {},
   "outputs": [],
   "source": [
    "##bug fix##\n",
    "import tensorflow as tf\n",
    "import tensorboard as tb\n",
    "tf.io.gfile = tb.compat.tensorflow_stub.io.gfile\n",
    "##bug fix##"
   ]
  },
  {
   "cell_type": "code",
   "execution_count": 42,
   "metadata": {},
   "outputs": [
    {
     "name": "stdout",
     "output_type": "stream",
     "text": [
      "warning: Embedding dir exists, did you set global_step for add_embedding()?\n"
     ]
    }
   ],
   "source": [
    "writer = SummaryWriter(log_dir + 'gcn/')\n",
    "\n",
    "writer.add_embedding(np.stack(df.embedding.values, axis=0),\n",
    "                     metadata_list, \n",
    "                     tag= 'gcn',metadata_header=['title','publicationName','coverDate','citedby_count','n_authors','n_institutions','first_author_country','citedby_rank','collaboration_status','eid'])\n",
    "\n",
    "\n",
    "writer.close()\n"
   ]
  },
  {
   "cell_type": "code",
   "execution_count": 43,
   "metadata": {},
   "outputs": [
    {
     "name": "stdout",
     "output_type": "stream",
     "text": [
      "warning: Embedding dir exists, did you set global_step for add_embedding()?\n"
     ]
    }
   ],
   "source": [
    "writer = SummaryWriter(log_dir + 'd2v/')\n",
    "\n",
    "writer.add_embedding(np.stack(df.d2v_vec.values, axis=0),\n",
    "                     metadata_list, \n",
    "                     tag= 'd2v',metadata_header=['title','publicationName','coverDate','citedby_count','n_authors','n_institutions','first_author_country','citedby_rank','collaboration_status','eid'])\n",
    "\n",
    "\n",
    "writer.close()\n"
   ]
  },
  {
   "cell_type": "code",
   "execution_count": 44,
   "metadata": {},
   "outputs": [
    {
     "name": "stdout",
     "output_type": "stream",
     "text": [
      "warning: Embedding dir exists, did you set global_step for add_embedding()?\n"
     ]
    }
   ],
   "source": [
    "writer = SummaryWriter(log_dir + 'topic_modeling/')\n",
    "\n",
    "writer.add_embedding(np.stack(df.topic_dist.values, axis=0),\n",
    "                     metadata_list, \n",
    "                     tag= 'topic_modeling',metadata_header=['title','publicationName','coverDate','citedby_count','n_authors','n_institutions','first_author_country','citedby_rank','collaboration_status','eid'])\n",
    "\n",
    "\n",
    "writer.close()\n"
   ]
  },
  {
   "cell_type": "code",
   "execution_count": 45,
   "metadata": {},
   "outputs": [],
   "source": [
    "writer = SummaryWriter(log_dir + 'bert/')\n",
    "\n",
    "writer.add_embedding(np.stack(df.bert_embedding.values, axis=0),\n",
    "                     metadata_list, \n",
    "                     tag= 'bert',metadata_header=['title','publicationName','coverDate','citedby_count','n_authors','n_institutions','first_author_country','citedby_rank','collaboration_status','eid'])\n",
    "\n",
    "\n",
    "writer.close()"
   ]
  },
  {
   "cell_type": "markdown",
   "metadata": {},
   "source": [
    "# Embedding analysis"
   ]
  },
  {
   "cell_type": "code",
   "execution_count": 33,
   "metadata": {},
   "outputs": [],
   "source": [
    "df = pd.read_pickle('../../results/embedding_df.p')"
   ]
  },
  {
   "cell_type": "code",
   "execution_count": 34,
   "metadata": {},
   "outputs": [],
   "source": [
    "#journals= ['social studies of science','science and education',\n",
    "#'scientometrics','journal of informetrics',\n",
    "#'research policy','science and public policy',\n",
    "#'synthese','studies in history and philosophy of science']\n",
    "\n",
    "journals= ['research policy','science and public policy',\n",
    "'scientometrics','journal of informetrics',\n",
    "'synthese','studies in history and philosophy of science',\n",
    "'research evaluation','public understanding of science']"
   ]
  },
  {
   "cell_type": "code",
   "execution_count": 35,
   "metadata": {},
   "outputs": [],
   "source": [
    "df = df[df.publicationName.isin(journals)]"
   ]
  },
  {
   "cell_type": "code",
   "execution_count": 36,
   "metadata": {},
   "outputs": [],
   "source": [
    "def extract_element(l,pos=0):\n",
    "    if l is None:\n",
    "        return [np.nan]\n",
    "    else:\n",
    "        return list(map(lambda x: x[pos],l))"
   ]
  },
  {
   "cell_type": "code",
   "execution_count": 37,
   "metadata": {},
   "outputs": [],
   "source": [
    "## Keep only obs with affiliation info\n",
    "df = df[-df['affiliation'].isnull()].copy()"
   ]
  },
  {
   "cell_type": "code",
   "execution_count": 38,
   "metadata": {},
   "outputs": [],
   "source": [
    "def build_metadata(df):\n",
    "    #number of authors and institutions\n",
    "    df['n_authors'] = df.authors.apply(lambda x: len(x))\n",
    "    df['n_institutions'] = df.affiliation.apply(lambda x:len(set(extract_element(x,1))))\n",
    "\n",
    "    # first author country\n",
    "    df['first_author_country'] = df.affiliation.apply(lambda x: extract_element(x,pos=3)[0])\n",
    "    \n",
    "    # citation ranking\n",
    "    \n",
    "    q1,q2,q3 = df.citedby_count.quantile([.25, .5, .75])\n",
    "\n",
    "    df['citedby_rank'] = None\n",
    "    df.loc[df.citedby_count==0,'citedby_rank'] = 'zero'\n",
    "    df.loc[(df.citedby_count > 0) & (df.citedby_count <= q1),'citedby_rank'] = 'low'\n",
    "    df.loc[(df.citedby_count >q1) & (df.citedby_count <= q2),'citedby_rank'] = 'mid-low'\n",
    "    df.loc[(df.citedby_count >q2) & (df.citedby_count <= q3),'citedby_rank'] = 'mid-high'\n",
    "    df.loc[(df.citedby_count >q3),'citedby_rank'] = 'high'\n",
    "\n",
    "    # international collaboration\n",
    "    international_collaboration_mask = df.affiliation.apply(lambda x: len(set(extract_element(x,pos=3)))>1)\n",
    "    institutional_collaboration_mask = df.affiliation.apply(lambda x: len(set(extract_element(x,1)))>1)\n",
    "    internal_collaboration_mask = (df.n_institutions == 1) & (df.n_authors >1)\n",
    "    unique_author_mask = df.n_authors == 1\n",
    "\n",
    "    df['collaboration_status'] = None\n",
    "    df.loc[unique_author_mask,'collaboration_status']                = 'unique_author'\n",
    "    df.loc[internal_collaboration_mask,'collaboration_status']       = 'internal_colab'\n",
    "    df.loc[institutional_collaboration_mask,'collaboration_status']  = 'institutional_colab'\n",
    "    df.loc[international_collaboration_mask,'collaboration_status']  = 'international_colab'\n",
    "    return df"
   ]
  },
  {
   "cell_type": "code",
   "execution_count": 39,
   "metadata": {},
   "outputs": [],
   "source": [
    "df = build_metadata(df)"
   ]
  },
  {
   "cell_type": "code",
   "execution_count": 40,
   "metadata": {},
   "outputs": [
    {
     "data": {
      "text/plain": [
       "unique_author          7364\n",
       "international_colab    3478\n",
       "internal_colab         3276\n",
       "institutional_colab    3203\n",
       "Name: collaboration_status, dtype: int64"
      ]
     },
     "execution_count": 40,
     "metadata": {},
     "output_type": "execute_result"
    }
   ],
   "source": [
    "df.collaboration_status.value_counts()"
   ]
  },
  {
   "cell_type": "code",
   "execution_count": 41,
   "metadata": {},
   "outputs": [],
   "source": [
    "def dimensionality_reduction(embedding, rnd_state=1234):\n",
    "    embedding_list = [np.array(x) for x in embedding]\n",
    "    if len(embedding_list[0])>60:\n",
    "        embedding_list = PCA(n_components=20,random_state=rnd_state).fit_transform(embedding_list)\n",
    "    reduced_embed = TSNE(random_state=rnd_state).fit_transform(embedding_list)\n",
    "    x,y= zip(*reduced_embed)\n",
    "    return x,y\n",
    "    "
   ]
  },
  {
   "cell_type": "code",
   "execution_count": null,
   "metadata": {},
   "outputs": [],
   "source": [
    "df['xs_gnn'], df['ys_gnn'] = dimensionality_reduction(df.embedding.values)\n",
    "df['xs_d2v'], df['ys_d2v'] = dimensionality_reduction(df.d2v_vec.values)\n",
    "df['xs_tm'], df['ys_tm']   = dimensionality_reduction(df.topic_dist.values)\n",
    "df['xs_bert'], df['ys_bert'] = dimensionality_reduction(df.bert_embedding.values)"
   ]
  },
  {
   "cell_type": "code",
   "execution_count": null,
   "metadata": {},
   "outputs": [],
   "source": [
    "df[['eid','publicationName','citedby_count','xs_gnn', 'ys_gnn', 'xs_d2v',\n",
    "       'ys_d2v', 'xs_tm', 'ys_tm', 'xs_bert', 'ys_bert']].to_csv('../../results/articles_tsne_proj.csv')"
   ]
  }
 ],
 "metadata": {
  "kernelspec": {
   "display_name": "Python 3",
   "language": "python",
   "name": "python3"
  },
  "language_info": {
   "codemirror_mode": {
    "name": "ipython",
    "version": 3
   },
   "file_extension": ".py",
   "mimetype": "text/x-python",
   "name": "python",
   "nbconvert_exporter": "python",
   "pygments_lexer": "ipython3",
   "version": "3.7.3"
  }
 },
 "nbformat": 4,
 "nbformat_minor": 4
}
